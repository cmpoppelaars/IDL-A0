{
 "cells": [
  {
   "cell_type": "code",
   "execution_count": 1,
   "metadata": {},
   "outputs": [],
   "source": [
    "# import packages\n",
    "import pandas as pd\n",
    "import numpy as np\n",
    "from tqdm import tqdm\n",
    "import os\n",
    "\n",
    "from scipy.special import softmax as sf\n",
    "from sklearn.metrics import confusion_matrix, ConfusionMatrixDisplay\n",
    "\n",
    "PATH = os.getcwd()\n",
    "DATAPATH = os.path.join(PATH, \"data\")\n",
    "filenames = {\n",
    "    \"X_test\": \"test_in - Copy.csv\",\n",
    "    \"X_train\": \"train_in - Copy.csv\",\n",
    "    \"y_test\": \"test_out - Copy.csv\",\n",
    "    \"y_train\": \"train_out - Copy.csv\",\n",
    "}\n",
    "\n",
    "\n",
    "# Import all data files\n",
    "X_train = pd.read_csv(os.path.join(DATAPATH, filenames[\"X_train\"]), header=None)\n",
    "y_train = pd.read_csv(\n",
    "    os.path.join(DATAPATH, filenames[\"y_train\"]), header=None, names=[\"digit\"]\n",
    ")\n",
    "expected_train = pd.get_dummies(y_train.digit).to_numpy()\n",
    "\n",
    "X_test = pd.read_csv(os.path.join(DATAPATH, filenames[\"X_test\"]), header=None)\n",
    "y_test = pd.read_csv(\n",
    "    os.path.join(DATAPATH, filenames[\"y_test\"]), header=None, names=[\"digit\"]\n",
    ")"
   ]
  },
  {
   "cell_type": "code",
   "execution_count": 4,
   "metadata": {},
   "outputs": [
    {
     "name": "stderr",
     "output_type": "stream",
     "text": [
      "100%|██████████| 1000/1000 [00:07<00:00, 133.51it/s]\n"
     ]
    },
    {
     "name": "stdout",
     "output_type": "stream",
     "text": [
      "Final error: 2843.2044151303244\n",
      "Final accuraccy:\n",
      "\tOn training data: 1.000\n",
      "\tOn testing data: 0.869\n"
     ]
    },
    {
     "name": "stderr",
     "output_type": "stream",
     "text": [
      "100%|██████████| 1000/1000 [00:07<00:00, 133.69it/s]\n"
     ]
    },
    {
     "name": "stdout",
     "output_type": "stream",
     "text": [
      "Final error: 2461.2857344392205\n",
      "Final accuraccy:\n",
      "\tOn training data: 1.000\n",
      "\tOn testing data: 0.865\n"
     ]
    },
    {
     "name": "stderr",
     "output_type": "stream",
     "text": [
      "100%|██████████| 1000/1000 [00:07<00:00, 135.03it/s]\n",
      "C:\\Users\\timvd\\AppData\\Local\\Temp\\ipykernel_25184\\745302691.py:23: RuntimeWarning: divide by zero encountered in log10\n",
      "  return -np.log10(output)[rows, y.digit].sum()\n"
     ]
    },
    {
     "name": "stdout",
     "output_type": "stream",
     "text": [
      "Final error: 2707.98187734802\n",
      "Final accuraccy:\n",
      "\tOn training data: 1.000\n",
      "\tOn testing data: 0.867\n"
     ]
    },
    {
     "name": "stderr",
     "output_type": "stream",
     "text": [
      "100%|██████████| 1000/1000 [00:07<00:00, 128.80it/s]\n"
     ]
    },
    {
     "name": "stdout",
     "output_type": "stream",
     "text": [
      "Final error: 2301.754123461006\n",
      "Final accuraccy:\n",
      "\tOn training data: 1.000\n",
      "\tOn testing data: 0.868\n"
     ]
    },
    {
     "name": "stderr",
     "output_type": "stream",
     "text": [
      "100%|██████████| 1000/1000 [00:06<00:00, 143.16it/s]\n"
     ]
    },
    {
     "name": "stdout",
     "output_type": "stream",
     "text": [
      "Final error: 2343.6034949257046\n",
      "Final accuraccy:\n",
      "\tOn training data: 1.000\n",
      "\tOn testing data: 0.870\n"
     ]
    },
    {
     "name": "stderr",
     "output_type": "stream",
     "text": [
      "100%|██████████| 1000/1000 [00:07<00:00, 137.49it/s]\n"
     ]
    },
    {
     "name": "stdout",
     "output_type": "stream",
     "text": [
      "Final error: 2394.8043947362103\n",
      "Final accuraccy:\n",
      "\tOn training data: 1.000\n",
      "\tOn testing data: 0.862\n"
     ]
    },
    {
     "name": "stderr",
     "output_type": "stream",
     "text": [
      "100%|██████████| 1000/1000 [00:07<00:00, 141.25it/s]\n"
     ]
    },
    {
     "name": "stdout",
     "output_type": "stream",
     "text": [
      "Final error: 2968.1572580820985\n",
      "Final accuraccy:\n",
      "\tOn training data: 1.000\n",
      "\tOn testing data: 0.870\n"
     ]
    },
    {
     "name": "stderr",
     "output_type": "stream",
     "text": [
      "100%|██████████| 1000/1000 [00:07<00:00, 135.65it/s]\n"
     ]
    },
    {
     "name": "stdout",
     "output_type": "stream",
     "text": [
      "Final error: 2361.3915933746057\n",
      "Final accuraccy:\n",
      "\tOn training data: 1.000\n",
      "\tOn testing data: 0.867\n"
     ]
    },
    {
     "name": "stderr",
     "output_type": "stream",
     "text": [
      "100%|██████████| 1000/1000 [00:06<00:00, 147.22it/s]\n"
     ]
    },
    {
     "name": "stdout",
     "output_type": "stream",
     "text": [
      "Final error: 2200.433386774958\n",
      "Final accuraccy:\n",
      "\tOn training data: 1.000\n",
      "\tOn testing data: 0.870\n"
     ]
    },
    {
     "name": "stderr",
     "output_type": "stream",
     "text": [
      "100%|██████████| 1000/1000 [00:06<00:00, 148.53it/s]"
     ]
    },
    {
     "name": "stdout",
     "output_type": "stream",
     "text": [
      "Final error: 2183.074148991179\n",
      "Final accuraccy:\n",
      "\tOn training data: 1.000\n",
      "\tOn testing data: 0.869\n",
      "Mean accuracy on test set after 10 runs is 0.868\n",
      "Mean error on test set after 10 runs is 2476.569\n"
     ]
    },
    {
     "name": "stderr",
     "output_type": "stream",
     "text": [
      "\n"
     ]
    }
   ],
   "source": [
    "# We use scipy's softmax, due to issues with NaN's\n",
    "def softmax(x):\n",
    "    return sf(x, axis=1)\n",
    "\n",
    "\n",
    "def random_weights_gauss(shape, sigma):\n",
    "    return np.random.normal(0, sigma, shape)\n",
    "\n",
    "\n",
    "def append_one(X, axis=0):\n",
    "    shape = (X.shape[axis], 1) if axis == 1 else (1, X.shape[axis])\n",
    "    return np.append(X.T, np.ones(shape=shape), axis=axis)\n",
    "\n",
    "\n",
    "def classify(weights, X=X_test, actf=softmax):\n",
    "    y_out = actf(np.dot(append_one(X).T, weights))\n",
    "    return y_out.argmax(axis=1)\n",
    "\n",
    "\n",
    "def calc_error(weights, X=X_test, y=y_test, actf=softmax):\n",
    "    output = actf(np.dot(append_one(X).T, weights))\n",
    "    rows = list(np.arange(output.shape[0]))\n",
    "    return -np.log10(output)[rows, y.digit].sum()\n",
    "\n",
    "\n",
    "def calc_gradient(weights, X=X_train, expected=expected_train, actf=softmax):\n",
    "    s = actf(np.dot(append_one(np.array(X)).T, weights))\n",
    "    y = expected\n",
    "    return np.dot(append_one(np.array(X)), (s - y))\n",
    "\n",
    "\n",
    "def train_perceptron(\n",
    "    n_loops=1000, eta=0.01, X=X_train, y=y_train, small_batch=False, batch_size=10\n",
    "):\n",
    "    weights = random_weights_gauss((257, 10), np.sqrt(2 / (256 + 10)))\n",
    "    expected = pd.get_dummies(y.digit).to_numpy()\n",
    "\n",
    "    for epoch in tqdm(range(n_loops)):\n",
    "        if small_batch:\n",
    "            # only use a small batch of the input and expected\n",
    "            idxs = np.random.choice(X.shape[0], batch_size)\n",
    "            weights -= eta * calc_gradient(weights, X.iloc[idxs], expected[idxs])\n",
    "        else:\n",
    "            weights -= eta * calc_gradient(weights, X, expected)\n",
    "\n",
    "    err = calc_error(weights)\n",
    "    acc_train = sum(classify(weights, X_train) == y_train.digit) / len(y_train.digit)\n",
    "    acc_test = sum(classify(weights, X_test) == y_test.digit) / len(y_test.digit)\n",
    "    print(f\"Final error: {err}\")\n",
    "    print(\n",
    "        f\"Final accuraccy:\\n\\tOn training data: {acc_train:.3f}\\n\\tOn testing data: {acc_test:.3f}\"\n",
    "    )\n",
    "    return weights, acc_test, err\n",
    "\n",
    "small_batch = False\n",
    "accs = []\n",
    "errs = []\n",
    "n = 10\n",
    "for i in range(n):\n",
    "    weights,acc_test,err = train_perceptron(n_loops=1000, small_batch=small_batch, batch_size=100)\n",
    "    accs.append(acc_test)\n",
    "    errs.append(err)\n",
    "print(f\"Mean accuracy on test set after {n} runs is {np.mean(accs):.3f}\")\n",
    "print(f\"Mean error on test set after {n} runs is {np.mean(errs):.3f}\")\n"
   ]
  }
 ],
 "metadata": {
  "kernelspec": {
   "display_name": "p311",
   "language": "python",
   "name": "python3"
  },
  "language_info": {
   "codemirror_mode": {
    "name": "ipython",
    "version": 3
   },
   "file_extension": ".py",
   "mimetype": "text/x-python",
   "name": "python",
   "nbconvert_exporter": "python",
   "pygments_lexer": "ipython3",
   "version": "3.9.2"
  },
  "orig_nbformat": 4
 },
 "nbformat": 4,
 "nbformat_minor": 2
}
