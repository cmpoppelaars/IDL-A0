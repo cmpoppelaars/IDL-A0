{
 "cells": [
  {
   "cell_type": "code",
   "execution_count": 2,
   "metadata": {},
   "outputs": [],
   "source": [
    "import pandas as pd\n",
    "import matplotlib.pyplot as plt\n",
    "import numpy as np\n",
    "import os\n",
    "\n",
    "from functools import lru_cache"
   ]
  },
  {
   "cell_type": "code",
   "execution_count": 3,
   "metadata": {},
   "outputs": [],
   "source": [
    "PATH = os.getcwd()\n",
    "DATAPATH = os.path.join(PATH, \"data\")\n",
    "filenames = {\n",
    "    \"X_test\": \"test_in - Copy.csv\",\n",
    "    \"X_train\": \"train_in - Copy.csv\",\n",
    "    \"y_test\": \"test_out - Copy.csv\",\n",
    "    \"y_train\": \"train_out - Copy.csv\",\n",
    "}\n",
    "\n",
    "\n",
    "# Import all data files\n",
    "X_train = pd.read_csv(os.path.join(DATAPATH, filenames[\"X_train\"]), header=None)\n",
    "y_train = pd.read_csv(\n",
    "    os.path.join(DATAPATH, filenames[\"y_train\"]), header=None, names=[\"digit\"]\n",
    ")\n",
    "X_test = pd.read_csv(os.path.join(DATAPATH, filenames[\"X_test\"]), header=None)\n",
    "y_test = pd.read_csv(\n",
    "    os.path.join(DATAPATH, filenames[\"y_test\"]), header=None, names=[\"digit\"]\n",
    ")"
   ]
  },
  {
   "cell_type": "code",
   "execution_count": 11,
   "metadata": {},
   "outputs": [],
   "source": [
    "def actf(x):\n",
    "    return np.tanh(x)\n",
    "\n",
    "def dactf(x):\n",
    "    return np.cosh(x)**-2\n",
    "\n",
    "def softmax(x): \n",
    "    return np.exp(x)/(np.exp(x)).sum(axis=0)\n",
    "\n",
    "# def dsoftmax(x): return x\n",
    "\n",
    "@lru_cache()\n",
    "def sigmoid(x):\n",
    "    return (1 + np.exp(-x))**-1\n",
    "\n",
    "@lru_cache()\n",
    "def dsigmoid(x):\n",
    "    return sigmoid(x) * (1 - sigmoid(x))\n",
    "\n",
    "def random_weights(shape, bounds=[-1, 1]):\n",
    "    return pd.DataFrame(np.random.uniform(*bounds, size=shape))\n"
   ]
  },
  {
   "cell_type": "code",
   "execution_count": 26,
   "metadata": {},
   "outputs": [],
   "source": [
    "expected = np.zeros((len(X_train), 10))\n",
    "for i, digit in enumerate(y_train.digit):\n",
    "    expected[i, digit] = 1\n",
    "\n",
    "def append_one(X):\n",
    "    return pd.concat([X, pd.DataFrame(np.ones(X.shape[0]), columns=[256])], axis=1)\n",
    "\n",
    "def grd_desc(inputs: pd.DataFrame, expected: pd.DataFrame, weights: pd.DataFrame):\n",
    "    gradient = pd.DataFrame(np.zeros(weights.shape))\n",
    "    w_x = append_one(inputs) @ weights\n",
    "    gradient += 2 * (w_x.applymap(sigmoid) - expected) * w_x.applymap(dsigmoid) * append_one(X_train)\n",
    "    return gradient\n",
    "\n",
    "def classify(weights, X=X_test):\n",
    "    y_out = (append_one(X) @ weights).applymap(sigmoid)\n",
    "    return y_out.apply(np.argmax, axis=1)\n",
    "\n",
    "def mse(weights, X, expected):\n",
    "    return (((append_one(X) @ weights).applymap(sigmoid) - expected)**2).sum(axis=1).sum()"
   ]
  },
  {
   "cell_type": "code",
   "execution_count": 30,
   "metadata": {},
   "outputs": [
    {
     "name": "stdout",
     "output_type": "stream",
     "text": [
      "Epoch    0, mse: 8639.207\n",
      "Epoch   10, mse: 6685.533\n",
      "Epoch   20, mse: 5567.197\n",
      "Epoch   30, mse: 4675.576\n",
      "Epoch   40, mse: 4383.138\n",
      "Epoch   50, mse: 4153.446\n",
      "Epoch   60, mse: 3912.412\n",
      "Epoch   70, mse: 3707.518\n",
      "Epoch   80, mse: 3516.507\n",
      "Epoch   90, mse: 3308.314\n",
      "accuraccy on train data: 0.063\n",
      "accuraccy on test data: 0.083\n"
     ]
    }
   ],
   "source": [
    "def train_perceptron(eta = 0.01, n_loops=1000, \n",
    "                     X: pd.DataFrame = X_train, y: pd.DataFrame= y_train,\n",
    "                     show: bool = True):\n",
    "    expected = np.zeros((len(X), 10))\n",
    "    for i, digit in enumerate(y.digit):\n",
    "        expected[i, digit] = 1\n",
    "\n",
    "    weights = random_weights((X.shape[1] + 1, 10))\n",
    "    for epoch in range(n_loops):\n",
    "        weights -= eta*grd_desc(X, expected, weights)\n",
    "        if show and epoch % (n_loops//10) == 0:\n",
    "            print(f\"Epoch {epoch:4}, mse: {mse(weights, X, expected):.3f}\")\n",
    "\n",
    "    return weights\n",
    "\n",
    "weights = train_perceptron(eta=0.1, n_loops=100)\n",
    "\n",
    "y_out = classify(weights, X_train)\n",
    "acc = sum(y_out.eq(y_train.digit))/len(y_out)\n",
    "print(f\"accuraccy on train data: {acc:.3f}\")\n",
    "\n",
    "y_out = classify(weights, X_test)\n",
    "acc = sum(y_out.eq(y_test.digit))/len(y_out)\n",
    "print(f\"accuraccy on test data: {acc:.3f}\")"
   ]
  }
 ],
 "metadata": {
  "kernelspec": {
   "display_name": "p311",
   "language": "python",
   "name": "python3"
  },
  "language_info": {
   "codemirror_mode": {
    "name": "ipython",
    "version": 3
   },
   "file_extension": ".py",
   "mimetype": "text/x-python",
   "name": "python",
   "nbconvert_exporter": "python",
   "pygments_lexer": "ipython3",
   "version": "3.11.0"
  },
  "orig_nbformat": 4
 },
 "nbformat": 4,
 "nbformat_minor": 2
}
