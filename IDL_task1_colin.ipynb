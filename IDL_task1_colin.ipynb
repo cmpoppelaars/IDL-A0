{
  "cells": [
    {
      "cell_type": "markdown",
      "source": [
        "## Imports"
      ],
      "metadata": {
        "id": "rQsW4PP2H5Gd"
      }
    },
    {
      "cell_type": "code",
      "execution_count": 1,
      "metadata": {
        "id": "ikD5OltAkJws",
        "colab": {
          "base_uri": "https://localhost:8080/"
        },
        "outputId": "ad0b6979-4a22-4358-be54-d9f249f33669"
      },
      "outputs": [
        {
          "output_type": "stream",
          "name": "stdout",
          "text": [
            "Tensorflow version:  2.12.0\n"
          ]
        },
        {
          "output_type": "execute_result",
          "data": {
            "text/plain": [
              "<tensorflow.python.tpu.topology.Topology at 0x7a293cd36380>"
            ]
          },
          "metadata": {},
          "execution_count": 1
        }
      ],
      "source": [
        "import tensorflow as tf\n",
        "from tensorflow.keras.datasets import mnist\n",
        "from tensorflow.keras.models import Sequential\n",
        "from tensorflow.keras.layers import Dense, Dropout, Flatten, Conv2D, MaxPooling2D\n",
        "from tensorflow.keras import Input, Model, backend as K\n",
        "import numpy as np\n",
        "import matplotlib.pyplot as plt\n",
        "print(\"Tensorflow version: \", tf.__version__)\n",
        "from IPython.display import display\n",
        "\n",
        "from __future__ import print_function\n",
        "import keras\n",
        "from keras.datasets import mnist\n",
        "from keras.models import Sequential\n",
        "from keras.layers import Dense, Dropout, Flatten, Conv2D, MaxPooling2D\n",
        "from keras.optimizers import RMSprop\n",
        "from keras import backend as K\n",
        "\n",
        "# Enable the TPU\n",
        "resolver = tf.distribute.cluster_resolver.TPUClusterResolver(tpu='')\n",
        "tf.config.experimental_connect_to_cluster(resolver)\n",
        "# This is the TPU initialization code that has to be at the beginning.\n",
        "tf.tpu.experimental.initialize_tpu_system(resolver)\n",
        "\n",
        "\n"
      ]
    },
    {
      "cell_type": "markdown",
      "source": [
        "## MNIST Examples from keras"
      ],
      "metadata": {
        "id": "6ceudEFhIikX"
      }
    },
    {
      "cell_type": "code",
      "source": [
        "batch_size = 128\n",
        "num_classes = 10 # 0,1,...., 9. The digits\n",
        "epochs = 20 # Number of runs"
      ],
      "metadata": {
        "id": "lOnGO_kA5f-3"
      },
      "execution_count": 8,
      "outputs": []
    },
    {
      "cell_type": "markdown",
      "source": [
        "Batch size defines the number of samples that will be propagated through the network. If you have 1050 training samples\n",
        "then our algorithm will take in the training samples in batches, where each batch has the same size. However, it must\n",
        "be the case that the number of samples is divisible by the batch_size, else we have batches with fractional instances,\n",
        "these do not exist.\n",
        "\n",
        "In addition, there are some advantages of using a batch size that is smaller than the total number of training samples:\n",
        "* We require less memory to be used. By training with fewer sampling, the overall training prodedure takes less memory.\n",
        "* Typically, networks train faster with mini-batches as opposed to the entire batch of all instances. This is a consequence of how weights are adjusted after each propagation.\n",
        "\n",
        "Disadvantages:\n",
        "* The smaller the batches, the less accurate the estimate of the gradient will be."
      ],
      "metadata": {
        "id": "MjTifomI53U8"
      }
    },
    {
      "cell_type": "code",
      "execution_count": 9,
      "metadata": {
        "id": "3oc105ARlVk7",
        "colab": {
          "base_uri": "https://localhost:8080/"
        },
        "outputId": "23076c01-a0fb-4eb3-9ca1-d41b0c75e708"
      },
      "outputs": [
        {
          "output_type": "stream",
          "name": "stdout",
          "text": [
            "60000 train samples\n",
            "10000 test samples\n"
          ]
        }
      ],
      "source": [
        "# the data, split between train and test sets\n",
        "(x_train, y_train), (x_test, y_test) = mnist.load_data()\n",
        "\n",
        "x_train = x_train.reshape(60000, 784)\n",
        "x_test = x_test.reshape(10000, 784)\n",
        "x_train = x_train.astype('float32')\n",
        "x_test = x_test.astype('float32')\n",
        "x_train /= 255\n",
        "x_test /= 255\n",
        "print(x_train.shape[0], 'train samples')\n",
        "print(x_test.shape[0], 'test samples')\n",
        "\n",
        "# convert class vectors to binary class matrices\n",
        "y_train = keras.utils.to_categorical(y_train, num_classes)\n",
        "y_test = keras.utils.to_categorical(y_test, num_classes)"
      ]
    },
    {
      "cell_type": "code",
      "source": [
        "# Model initialization and fitting\n",
        "model = Sequential()\n",
        "model.add(Dense(512, activation='relu', input_shape=(784,))) # input layer\n",
        "model.add(Dropout(0.2))\n",
        "model.add(Dense(512, activation='relu')) # layer 1\n",
        "model.add(Dropout(0.2))\n",
        "model.add(Dense(num_classes, activation='softmax') ) # final layer, output\n",
        "\n",
        "model.summary()\n",
        "\n",
        "model.compile(loss='categorical_crossentropy',\n",
        "              optimizer=RMSprop(),\n",
        "              metrics=['accuracy'], steps_per_execution=128)\n",
        "\n",
        "history = model.fit(x_train, y_train,\n",
        "                    batch_size=batch_size,\n",
        "                    epochs=epochs,\n",
        "                    verbose=1,\n",
        "                    validation_data=(x_test, y_test))\n",
        "\n",
        "score = model.evaluate(x_test, y_test, verbose=0)\n",
        "print('Test loss:', score[0])\n",
        "print('Test accuracy:', score[1])"
      ],
      "metadata": {
        "colab": {
          "base_uri": "https://localhost:8080/"
        },
        "id": "rZB6sJ2Y6GwL",
        "outputId": "f108d94e-2f55-43d8-99be-77bc381476b6"
      },
      "execution_count": 11,
      "outputs": [
        {
          "output_type": "stream",
          "name": "stdout",
          "text": [
            "Model: \"sequential_2\"\n",
            "_________________________________________________________________\n",
            " Layer (type)                Output Shape              Param #   \n",
            "=================================================================\n",
            " dense_6 (Dense)             (None, 512)               401920    \n",
            "                                                                 \n",
            " dropout_4 (Dropout)         (None, 512)               0         \n",
            "                                                                 \n",
            " dense_7 (Dense)             (None, 512)               262656    \n",
            "                                                                 \n",
            " dropout_5 (Dropout)         (None, 512)               0         \n",
            "                                                                 \n",
            " dense_8 (Dense)             (None, 10)                5130      \n",
            "                                                                 \n",
            "=================================================================\n",
            "Total params: 669,706\n",
            "Trainable params: 669,706\n",
            "Non-trainable params: 0\n",
            "_________________________________________________________________\n",
            "Epoch 1/20\n",
            "469/469 [==============================] - 6s 12ms/step - loss: 0.2458 - accuracy: 0.9241 - val_loss: 0.1059 - val_accuracy: 0.9673\n",
            "Epoch 2/20\n",
            "469/469 [==============================] - 4s 8ms/step - loss: 0.1040 - accuracy: 0.9692 - val_loss: 0.0956 - val_accuracy: 0.9713\n",
            "Epoch 3/20\n",
            "469/469 [==============================] - 4s 8ms/step - loss: 0.0751 - accuracy: 0.9767 - val_loss: 0.0728 - val_accuracy: 0.9797\n",
            "Epoch 4/20\n",
            "469/469 [==============================] - 3s 7ms/step - loss: 0.0587 - accuracy: 0.9822 - val_loss: 0.0770 - val_accuracy: 0.9774\n",
            "Epoch 5/20\n",
            "469/469 [==============================] - 3s 7ms/step - loss: 0.0490 - accuracy: 0.9854 - val_loss: 0.0747 - val_accuracy: 0.9809\n",
            "Epoch 6/20\n",
            "469/469 [==============================] - 3s 7ms/step - loss: 0.0433 - accuracy: 0.9871 - val_loss: 0.0885 - val_accuracy: 0.9782\n",
            "Epoch 7/20\n",
            "469/469 [==============================] - 3s 7ms/step - loss: 0.0378 - accuracy: 0.9887 - val_loss: 0.0807 - val_accuracy: 0.9801\n",
            "Epoch 8/20\n",
            "469/469 [==============================] - 4s 7ms/step - loss: 0.0340 - accuracy: 0.9898 - val_loss: 0.0907 - val_accuracy: 0.9821\n",
            "Epoch 9/20\n",
            "469/469 [==============================] - 4s 7ms/step - loss: 0.0316 - accuracy: 0.9909 - val_loss: 0.0858 - val_accuracy: 0.9836\n",
            "Epoch 10/20\n",
            "469/469 [==============================] - 4s 8ms/step - loss: 0.0274 - accuracy: 0.9917 - val_loss: 0.0832 - val_accuracy: 0.9840\n",
            "Epoch 11/20\n",
            "469/469 [==============================] - 4s 8ms/step - loss: 0.0248 - accuracy: 0.9924 - val_loss: 0.1138 - val_accuracy: 0.9799\n",
            "Epoch 12/20\n",
            "469/469 [==============================] - 3s 7ms/step - loss: 0.0234 - accuracy: 0.9934 - val_loss: 0.0979 - val_accuracy: 0.9826\n",
            "Epoch 13/20\n",
            "469/469 [==============================] - 3s 7ms/step - loss: 0.0234 - accuracy: 0.9936 - val_loss: 0.1102 - val_accuracy: 0.9806\n",
            "Epoch 14/20\n",
            "469/469 [==============================] - 3s 7ms/step - loss: 0.0205 - accuracy: 0.9940 - val_loss: 0.1103 - val_accuracy: 0.9821\n",
            "Epoch 15/20\n",
            "469/469 [==============================] - 3s 7ms/step - loss: 0.0200 - accuracy: 0.9945 - val_loss: 0.1067 - val_accuracy: 0.9827\n",
            "Epoch 16/20\n",
            "469/469 [==============================] - 3s 7ms/step - loss: 0.0196 - accuracy: 0.9947 - val_loss: 0.1131 - val_accuracy: 0.9842\n",
            "Epoch 17/20\n",
            "469/469 [==============================] - 3s 7ms/step - loss: 0.0172 - accuracy: 0.9953 - val_loss: 0.1237 - val_accuracy: 0.9842\n",
            "Epoch 18/20\n",
            "469/469 [==============================] - 3s 7ms/step - loss: 0.0191 - accuracy: 0.9950 - val_loss: 0.1302 - val_accuracy: 0.9822\n",
            "Epoch 19/20\n",
            "469/469 [==============================] - 3s 7ms/step - loss: 0.0193 - accuracy: 0.9950 - val_loss: 0.1248 - val_accuracy: 0.9837\n",
            "Epoch 20/20\n",
            "469/469 [==============================] - 3s 7ms/step - loss: 0.0167 - accuracy: 0.9955 - val_loss: 0.1336 - val_accuracy: 0.9817\n",
            "Test loss: 0.1336246281862259\n",
            "Test accuracy: 0.9817000031471252\n"
          ]
        }
      ]
    },
    {
      "cell_type": "code",
      "source": [],
      "metadata": {
        "id": "npjFDbY96GbR"
      },
      "execution_count": null,
      "outputs": []
    },
    {
      "cell_type": "code",
      "execution_count": null,
      "metadata": {
        "id": "SunSSnaqlVnq"
      },
      "outputs": [],
      "source": [
        "\n",
        "# Change epoch (default)\n",
        "epochs = 12\n",
        "\n",
        "# input image dimensions\n",
        "img_rows, img_cols = 28, 28\n",
        "\n",
        "# the data, split between train and test sets\n",
        "(x_train, y_train), (x_test, y_test) = mnist.load_data()\n",
        "\n",
        "if K.image_data_format() == 'channels_first':\n",
        "    x_train = x_train.reshape(x_train.shape[0], 1, img_rows, img_cols)\n",
        "    x_test = x_test.reshape(x_test.shape[0], 1, img_rows, img_cols)\n",
        "    input_shape = (1, img_rows, img_cols)\n",
        "else:\n",
        "    x_train = x_train.reshape(x_train.shape[0], img_rows, img_cols, 1)\n",
        "    x_test = x_test.reshape(x_test.shape[0], img_rows, img_cols, 1)\n",
        "    input_shape = (img_rows, img_cols, 1)\n",
        "\n",
        "x_train = x_train.astype('float32')\n",
        "x_test = x_test.astype('float32')\n",
        "x_train /= 255\n",
        "x_test /= 255\n",
        "print('x_train shape:', x_train.shape)\n",
        "print(x_train.shape[0], 'train samples')\n",
        "print(x_test.shape[0], 'test samples')\n",
        "\n",
        "# convert class vectors to binary class matrices\n",
        "y_train = keras.utils.to_categorical(y_train, num_classes)\n",
        "y_test = keras.utils.to_categorical(y_test, num_classes)\n",
        "\n",
        "# Create CNN\n",
        "model = Sequential()\n",
        "model.add(Conv2D(32, kernel_size=(3, 3),\n",
        "                 activation='relu',\n",
        "                 input_shape=input_shape))\n",
        "model.add(Conv2D(64, (3, 3), activation='relu'))\n",
        "model.add(MaxPooling2D(pool_size=(2, 2)))\n",
        "model.add(Dropout(0.25))\n",
        "model.add(Flatten())\n",
        "model.add(Dense(128, activation='relu'))\n",
        "model.add(Dropout(0.5))\n",
        "model.add(Dense(num_classes, activation='softmax'))\n",
        "\n",
        "model.compile(loss=keras.losses.categorical_crossentropy,\n",
        "              optimizer=keras.optimizers.Adadelta(),\n",
        "              metrics=['accuracy'])\n",
        "\n",
        "model.fit(x_train, y_train,\n",
        "          batch_size=batch_size,\n",
        "          epochs=epochs,\n",
        "          verbose=1,\n",
        "          validation_data=(x_test, y_test))\n",
        "score = model.evaluate(x_test, y_test, verbose=0)\n",
        "print('Test loss:', score[0])\n",
        "print('Test accuracy:', score[1])"
      ]
    },
    {
      "cell_type": "code",
      "execution_count": null,
      "metadata": {
        "id": "mfSG-7sElVqW"
      },
      "outputs": [],
      "source": []
    },
    {
      "cell_type": "markdown",
      "source": [
        "## MNIST Fashion - Exercise 1.2"
      ],
      "metadata": {
        "id": "b2ic28zQHv6H"
      }
    },
    {
      "cell_type": "code",
      "execution_count": 6,
      "metadata": {
        "id": "c4NxN1sjlVv3",
        "colab": {
          "base_uri": "https://localhost:8080/"
        },
        "outputId": "abe0250b-38ad-43b0-c6e2-cd7fd8c581eb"
      },
      "outputs": [
        {
          "output_type": "stream",
          "name": "stdout",
          "text": [
            "Downloading data from https://storage.googleapis.com/tensorflow/tf-keras-datasets/train-labels-idx1-ubyte.gz\n",
            "29515/29515 [==============================] - 0s 0us/step\n",
            "Downloading data from https://storage.googleapis.com/tensorflow/tf-keras-datasets/train-images-idx3-ubyte.gz\n",
            "26421880/26421880 [==============================] - 0s 0us/step\n",
            "Downloading data from https://storage.googleapis.com/tensorflow/tf-keras-datasets/t10k-labels-idx1-ubyte.gz\n",
            "5148/5148 [==============================] - 0s 0us/step\n",
            "Downloading data from https://storage.googleapis.com/tensorflow/tf-keras-datasets/t10k-images-idx3-ubyte.gz\n",
            "4422102/4422102 [==============================] - 0s 0us/step\n"
          ]
        }
      ],
      "source": [
        "# Load in data\n",
        "fashion_mnist = keras.datasets.fashion_mnist\n",
        "(X_train_full, y_train_full), (X_test, y_test) = fashion_mnist.load_data()"
      ]
    },
    {
      "cell_type": "code",
      "execution_count": 84,
      "metadata": {
        "id": "ydcSTDXNlVyu",
        "colab": {
          "base_uri": "https://localhost:8080/"
        },
        "outputId": "2f04d7a8-acdd-42f3-c2fd-df1b27c6c67a"
      },
      "outputs": [
        {
          "output_type": "execute_result",
          "data": {
            "text/plain": [
              "(60000, 28, 28)"
            ]
          },
          "metadata": {},
          "execution_count": 84
        }
      ],
      "source": [
        "# y_train_full.shape\n",
        "X_train_full.shape"
      ]
    },
    {
      "cell_type": "code",
      "execution_count": 16,
      "metadata": {
        "id": "FQfPtDrFlW_e"
      },
      "outputs": [],
      "source": [
        "# X_valid, X_train = X_train_full[:5000] / 255.0, X_train_full[5000:] / 255.0\n",
        "# y_valid, y_train = y_train_full[:5000], y_train_full[5000:]"
      ]
    },
    {
      "cell_type": "code",
      "execution_count": 17,
      "metadata": {
        "id": "3BJLIuThlXCM"
      },
      "outputs": [],
      "source": [
        "# For the fashion list we have different labels than the MNIST digits:\n",
        "class_names = [\"T-shirt/top\", \"Trouser\", \"Pullover\", \"Dress\", \"Coat\",\n",
        "                \"Sandal\", \"Shirt\", \"Sneaker\", \"Bag\", \"Ankle boot\"]"
      ]
    },
    {
      "cell_type": "markdown",
      "source": [
        "#### Example of an instance"
      ],
      "metadata": {
        "id": "gPhu9yCDMSTS"
      }
    },
    {
      "cell_type": "code",
      "execution_count": 59,
      "metadata": {
        "id": "tHMdSDqOlXFE",
        "colab": {
          "base_uri": "https://localhost:8080/",
          "height": 0
        },
        "outputId": "ea127bee-5083-44ce-903b-92c7fe6802b9"
      },
      "outputs": [
        {
          "output_type": "stream",
          "name": "stdout",
          "text": [
            "Dress\n"
          ]
        },
        {
          "output_type": "display_data",
          "data": {
            "text/plain": [
              "<Figure size 640x480 with 1 Axes>"
            ],
            "image/png": "[encoded data removed]"
          },
          "metadata": {}
        }
      ],
      "source": [
        "# Example of instance 4\n",
        "print(class_names[y_train_full[3]])\n",
        "plt.imshow(X_train_full[3,:,:], cmap='gray')\n",
        "plt.show()\n",
        "\n"
      ]
    },
    {
      "cell_type": "markdown",
      "source": [
        "## Back to the exercise:\n",
        "##### Build the neural network!"
      ],
      "metadata": {
        "id": "p9VXL2NpMYgk"
      }
    },
    {
      "cell_type": "code",
      "source": [
        "# Build the network layer by layer, in a SEQUENCE -> sequential\n",
        "model = keras.models.Sequential()\n",
        "\n",
        "\"\"\" Add the first layer, the input layer.\n",
        "\n",
        "It converts each input image into a 1D array: if it receives input data X, it\n",
        "computes X.reshape(-1, 1). This layer does not have any parameters; it is just\n",
        "there to do some simple preprocessing. Since it is the first layer in the model, you\n",
        "should specify the input_shape, which doesn’t include the batch size, only the\n",
        "shape of the instances. \"\"\"\n",
        "\n",
        "model.add(keras.layers.Flatten(input_shape=[28, 28], name=\"InputLayer\"))\n",
        "\n",
        "# Add layer with 300 neurons. Each Dense layer manages its own weight matrix, containing all the\n",
        "# connection weights between the neurons and their inputs.\n",
        "\n",
        "model.add(keras.layers.Dense(300, activation=\"relu\", name=\"HiddenLayer1\"))\n",
        "\n",
        "# And another layer, with 100 neurons\n",
        "model.add(keras.layers.Dense(100, activation=\"relu\", name=\"HiddenLayer2\"))\n",
        "\n",
        "# The final layer, the output layer, we have 10 classes, so we need 10 neurons, 1 per class.\n",
        "# We use softmax as all classes are exclusive.\n",
        "\n",
        "\"\"\" The network is configured to output N values, one for each class in the classification\n",
        "task, and the softmax function is used to normalize the outputs, converting them from\n",
        "weighted sum values into probabilities that sum to one. Each value in the output of the\n",
        "softmax function is interpreted as the probability of membership for each class.\"\"\"\n",
        "\n",
        "model.add(keras.layers.Dense(10, activation=\"softmax\", name=\"OutputLayer\"))"
      ],
      "metadata": {
        "id": "q4mm1RwMLKWY"
      },
      "execution_count": 45,
      "outputs": []
    },
    {
      "cell_type": "markdown",
      "source": [
        "#### Model in one sequence:"
      ],
      "metadata": {
        "id": "NTVhtIXUUruW"
      }
    },
    {
      "cell_type": "code",
      "source": [
        "# it is also possible to do it in one go:\n",
        "\"\"\"\n",
        "model = keras.models.Sequential([\n",
        "        keras.layers.Flatten(input_shape=[28, 28]),\n",
        "        keras.layers.Dense(300, activation=\"relu\"),\n",
        "        keras.layers.Dense(100, activation=\"relu\"),\n",
        "        keras.layers.Dense(10, activation=\"softmax\")\n",
        "        ])\n",
        "\"\"\""
      ],
      "metadata": {
        "id": "QsPDz1t6MlUe"
      },
      "execution_count": null,
      "outputs": []
    },
    {
      "cell_type": "markdown",
      "source": [
        "#### Visualize our model:"
      ],
      "metadata": {
        "id": "VQxZAF47UvDx"
      }
    },
    {
      "cell_type": "code",
      "source": [
        "# Image of our model - useful if we have named layers\n",
        "\n",
        "display(keras.utils.plot_model(model, show_layer_activations=True))\n",
        "\n",
        "# Or summary\n",
        "model.summary()\n",
        "\n"
      ],
      "metadata": {
        "colab": {
          "base_uri": "https://localhost:8080/",
          "height": 801
        },
        "id": "RNmChxexMlSH",
        "outputId": "d3f5a3c7-31bd-47cd-bc64-123c5328dbca"
      },
      "execution_count": 123,
      "outputs": [
        {
          "output_type": "display_data",
          "data": {
            "image/png": "[encoded data removed]",
            "text/plain": [
              "<IPython.core.display.Image object>"
            ]
          },
          "metadata": {}
        },
        {
          "output_type": "stream",
          "name": "stdout",
          "text": [
            "Model: \"sequential_7\"\n",
            "_________________________________________________________________\n",
            " Layer (type)                Output Shape              Param #   \n",
            "=================================================================\n",
            " InputLayer (Flatten)        (None, 784)               0         \n",
            "                                                                 \n",
            " HiddenLayer1 (Dense)        (None, 300)               235500    \n",
            "                                                                 \n",
            " HiddenLayer2 (Dense)        (None, 100)               30100     \n",
            "                                                                 \n",
            " OutputLayer (Dense)         (None, 10)                1010      \n",
            "                                                                 \n",
            "=================================================================\n",
            "Total params: 266,610\n",
            "Trainable params: 266,610\n",
            "Non-trainable params: 0\n",
            "_________________________________________________________________\n"
          ]
        }
      ]
    },
    {
      "cell_type": "markdown",
      "source": [
        "The output shape can have None. This implies that the batch size can be anything."
      ],
      "metadata": {
        "id": "HvpR_QnsVF6H"
      }
    },
    {
      "cell_type": "markdown",
      "source": [
        "### Run the NN:"
      ],
      "metadata": {
        "id": "wDkPue6AeFBx"
      }
    },
    {
      "cell_type": "code",
      "source": [
        "\"\"\" We have sparse labels (i.e., for each instance, there is just a target\n",
        "class index, from 0 to 9 in this case), and the classes are exclusive.\n",
        "\n",
        "Regarding the optimizer, \"sgd\" means that we will train the model using\n",
        "simple Stochastic Gradient Descent.\n",
        "\n",
        "As we are using a TPU, we can adjust the steps_per_execution. This\n",
        "makes the running and calculating of the weights from our NN sufficiently\n",
        "faster.\n",
        "\"\"\"\n",
        "\n",
        "# Choose an optimizer from keras.optimizers.X\n",
        "opt = keras.optimizers.Adam(learning_rate=0.001)\n",
        "\n",
        "model.compile(loss=\"sparse_categorical_crossentropy\",\n",
        "              optimizer=opt,\n",
        "              metrics=[[\"accuracy\"], [\"mse\"]], steps_per_execution=100)\n",
        "\n",
        "# Training and evaluation - epochs is the number of runs\n",
        "history = model.fit(X_train_full / 255.0, y_train_full, epochs=30,\n",
        "                    validation_split=0.1, batch_size=64, verbose=0) # verbose=0 is stfu"
      ],
      "metadata": {
        "id": "fy_d-we2MlP-"
      },
      "execution_count": 82,
      "outputs": []
    },
    {
      "cell_type": "markdown",
      "source": [
        "#### Plot the curves of loss, accuracy, validation loss and validation accuracy:"
      ],
      "metadata": {
        "id": "_nPv0xLnhVLB"
      }
    },
    {
      "cell_type": "code",
      "source": [
        "import pandas as pd"
      ],
      "metadata": {
        "id": "_3SPKvZUMlMu"
      },
      "execution_count": 71,
      "outputs": []
    },
    {
      "cell_type": "code",
      "source": [
        "pd.DataFrame(history.history).plot(figsize=(8, 5))\n",
        "plt.grid(True)\n",
        "plt.gca().set_ylim(0, 1) # set the vertical range to [0-1]\n",
        "plt.show()\n",
        "\n",
        "\"\"\"the validation curves are close to the training curves, which means\n",
        "that there is not too much overfitting \"\"\""
      ],
      "metadata": {
        "colab": {
          "base_uri": "https://localhost:8080/",
          "height": 469
        },
        "id": "G2vBBPA6MlKt",
        "outputId": "e5c1315d-a433-4cbc-f5f1-a95fdc582871"
      },
      "execution_count": 72,
      "outputs": [
        {
          "output_type": "display_data",
          "data": {
            "text/plain": [
              "<Figure size 800x500 with 1 Axes>"
            ],
            "image/png": "[encoded data removed]"
          },
          "metadata": {}
        },
        {
          "output_type": "execute_result",
          "data": {
            "text/plain": [
              "'the validation curves are close to the training curves, which means\\nthat there is not too much overfitting '"
            ],
            "application/vnd.google.colaboratory.intrinsic+json": {
              "type": "string"
            }
          },
          "metadata": {},
          "execution_count": 72
        }
      ]
    },
    {
      "cell_type": "markdown",
      "source": [
        "## Evaluate the model:"
      ],
      "metadata": {
        "id": "sfO6sCuDhbBr"
      }
    },
    {
      "cell_type": "code",
      "source": [
        "y_test.shape"
      ],
      "metadata": {
        "colab": {
          "base_uri": "https://localhost:8080/"
        },
        "id": "y7af-9yElCUX",
        "outputId": "8ab482b6-19ac-41a8-81b0-aad632d80837"
      },
      "execution_count": 75,
      "outputs": [
        {
          "output_type": "execute_result",
          "data": {
            "text/plain": [
              "(10000,)"
            ]
          },
          "metadata": {},
          "execution_count": 75
        }
      ]
    },
    {
      "cell_type": "code",
      "source": [
        "model.evaluate(X_test, y_test, batch_size=64, verbose=1)"
      ],
      "metadata": {
        "colab": {
          "base_uri": "https://localhost:8080/"
        },
        "id": "Mz5lA_BOMlHz",
        "outputId": "a604394d-87e7-4374-ae0b-e6614ce6ff62"
      },
      "execution_count": 83,
      "outputs": [
        {
          "output_type": "stream",
          "name": "stdout",
          "text": [
            "157/157 [==============================] - 0s 3ms/step - loss: 354.4655 - accuracy: 0.8326 - mse: 27.6995\n"
          ]
        },
        {
          "output_type": "execute_result",
          "data": {
            "text/plain": [
              "[354.46551513671875, 0.8325999975204468, 27.69953727722168]"
            ]
          },
          "metadata": {},
          "execution_count": 83
        }
      ]
    },
    {
      "cell_type": "markdown",
      "source": [
        "# Experiment with the network:"
      ],
      "metadata": {
        "id": "rSJiy1dyofAN"
      }
    },
    {
      "cell_type": "code",
      "source": [
        "def make_model(arch, optimizer,\n",
        "               metrics: list = [\"accuracy\"],\n",
        "               steps_per_execution: int = 1,\n",
        "               summary_model: bool = False):\n",
        "\n",
        "  # Initiate model\n",
        "  model = keras.models.Sequential()\n",
        "  # Add input layer\n",
        "  model.add(keras.layers.Flatten(input_shape=arch[\"input shape\"]))\n",
        "\n",
        "  # Add layers\n",
        "  for i, j in enumerate(arch['neurons']):\n",
        "    model.add(keras.layers.Dense(j, activation=arch['activation'][i]))\n",
        "\n",
        "  # Print summary if wanted\n",
        "  if summary_model:\n",
        "    model.summary()\n",
        "\n",
        "  model.compile(loss=\"sparse_categorical_crossentropy\",\n",
        "                optimizer=optimizer,\n",
        "                metrics=metrics,\n",
        "                steps_per_execution=steps_per_execution)\n",
        "\n",
        "  # Return model before fitting\n",
        "  return model\n",
        "\n",
        "\n",
        "def fit_model(model, X_train, y_train, scaling,\n",
        "              epochs: int = 30, validation_split: float = 0.1,\n",
        "              batch: int = 64, verbose: int = 0):\n",
        "\n",
        "  history = model.fit(X_train/scaling, y_train, epochs=epochs,\n",
        "                    validation_split = validation_split, batch_size=batch, verbose=verbose) # verbose=0 is stfu\n",
        "\n",
        "  return history\n",
        "\n",
        "\n",
        "def eval_model(model, X_test, y_test, batch, verbose=1):\n",
        "  return model.evaluate(X_test, y_test, batch_size=batch, verbose=verbose)\n",
        "\n"
      ],
      "metadata": {
        "id": "zIrBmjTiheBP"
      },
      "execution_count": 3,
      "outputs": []
    },
    {
      "cell_type": "code",
      "source": [
        "mlp_arch ={\n",
        "    \"input shape\" : [28, 28],\n",
        "    \"neurons\": [300, 100, 10],\n",
        "    \"activation\": ['relu', 'relu', 'softmax'],\n",
        "}"
      ],
      "metadata": {
        "id": "kBmtw0pY07e5"
      },
      "execution_count": 4,
      "outputs": []
    },
    {
      "cell_type": "code",
      "source": [
        "model1 = make_model(mlp_arch, optimizer=keras.optimizers.Adam(learning_rate=0.001),\n",
        "           steps_per_execution=100, summary_model=False)\n",
        "\n",
        "trainedmodel1 = fit_model(model1, X_train_full, y_train_full, 255.0,\n",
        "                          verbose=1)"
      ],
      "metadata": {
        "colab": {
          "base_uri": "https://localhost:8080/",
          "height": 581
        },
        "id": "_jd2qH-roeSN",
        "outputId": "2ba33ed7-5699-4dbc-c6f0-d1cd3c3cd9b7"
      },
      "execution_count": 7,
      "outputs": [
        {
          "output_type": "stream",
          "name": "stdout",
          "text": [
            "Epoch 1/30\n",
            "844/844 [==============================] - 4s 5ms/step - loss: 0.4951 - accuracy: 0.8230 - val_loss: 0.4152 - val_accuracy: 0.8485\n",
            "Epoch 2/30\n",
            "844/844 [==============================] - 1s 2ms/step - loss: 0.3638 - accuracy: 0.8660 - val_loss: 0.3601 - val_accuracy: 0.8677\n",
            "Epoch 3/30\n",
            "844/844 [==============================] - 1s 2ms/step - loss: 0.3265 - accuracy: 0.8800 - val_loss: 0.3631 - val_accuracy: 0.8660\n",
            "Epoch 4/30\n",
            "844/844 [==============================] - 1s 2ms/step - loss: 0.3015 - accuracy: 0.8883 - val_loss: 0.3229 - val_accuracy: 0.8820\n",
            "Epoch 5/30\n",
            "844/844 [==============================] - 1s 1ms/step - loss: 0.2833 - accuracy: 0.8945 - val_loss: 0.3416 - val_accuracy: 0.8753\n",
            "Epoch 6/30\n",
            "844/844 [==============================] - ETA: 0s - loss: 0.2733 - accuracy: 0.8991"
          ]
        },
        {
          "output_type": "error",
          "ename": "KeyboardInterrupt",
          "evalue": "ignored",
          "traceback": [
            "\u001b[0;31m---------------------------------------------------------------------------\u001b[0m",
            "\u001b[0;31mKeyboardInterrupt\u001b[0m                         Traceback (most recent call last)",
            "\u001b[0;32m<ipython-input-7-b5f3b15ed55c>\u001b[0m in \u001b[0;36m<cell line: 4>\u001b[0;34m()\u001b[0m\n\u001b[1;32m      2\u001b[0m            steps_per_execution=100, summary_model=False)\n\u001b[1;32m      3\u001b[0m \u001b[0;34m\u001b[0m\u001b[0m\n\u001b[0;32m----> 4\u001b[0;31m trainedmodel1 = fit_model(model1, X_train_full, y_train_full, 255.0,\n\u001b[0m\u001b[1;32m      5\u001b[0m                           verbose=1)\n",
            "\u001b[0;32m<ipython-input-3-03a064962455>\u001b[0m in \u001b[0;36mfit_model\u001b[0;34m(model, X_train, y_train, scaling, epochs, validation_split, batch, verbose)\u001b[0m\n\u001b[1;32m     30\u001b[0m               batch: int = 64, verbose: int = 0):\n\u001b[1;32m     31\u001b[0m \u001b[0;34m\u001b[0m\u001b[0m\n\u001b[0;32m---> 32\u001b[0;31m   history = model.fit(X_train/scaling, y_train, epochs=epochs,\n\u001b[0m\u001b[1;32m     33\u001b[0m                     validation_split = validation_split, batch_size=batch, verbose=verbose) # verbose=0 is stfu\n\u001b[1;32m     34\u001b[0m \u001b[0;34m\u001b[0m\u001b[0m\n",
            "\u001b[0;32m/usr/local/lib/python3.10/dist-packages/keras/utils/traceback_utils.py\u001b[0m in \u001b[0;36merror_handler\u001b[0;34m(*args, **kwargs)\u001b[0m\n\u001b[1;32m     63\u001b[0m         \u001b[0mfiltered_tb\u001b[0m \u001b[0;34m=\u001b[0m \u001b[0;32mNone\u001b[0m\u001b[0;34m\u001b[0m\u001b[0;34m\u001b[0m\u001b[0m\n\u001b[1;32m     64\u001b[0m         \u001b[0;32mtry\u001b[0m\u001b[0;34m:\u001b[0m\u001b[0;34m\u001b[0m\u001b[0;34m\u001b[0m\u001b[0m\n\u001b[0;32m---> 65\u001b[0;31m             \u001b[0;32mreturn\u001b[0m \u001b[0mfn\u001b[0m\u001b[0;34m(\u001b[0m\u001b[0;34m*\u001b[0m\u001b[0margs\u001b[0m\u001b[0;34m,\u001b[0m \u001b[0;34m**\u001b[0m\u001b[0mkwargs\u001b[0m\u001b[0;34m)\u001b[0m\u001b[0;34m\u001b[0m\u001b[0;34m\u001b[0m\u001b[0m\n\u001b[0m\u001b[1;32m     66\u001b[0m         \u001b[0;32mexcept\u001b[0m \u001b[0mException\u001b[0m \u001b[0;32mas\u001b[0m \u001b[0me\u001b[0m\u001b[0;34m:\u001b[0m\u001b[0;34m\u001b[0m\u001b[0;34m\u001b[0m\u001b[0m\n\u001b[1;32m     67\u001b[0m             \u001b[0mfiltered_tb\u001b[0m \u001b[0;34m=\u001b[0m \u001b[0m_process_traceback_frames\u001b[0m\u001b[0;34m(\u001b[0m\u001b[0me\u001b[0m\u001b[0;34m.\u001b[0m\u001b[0m__traceback__\u001b[0m\u001b[0;34m)\u001b[0m\u001b[0;34m\u001b[0m\u001b[0;34m\u001b[0m\u001b[0m\n",
            "\u001b[0;32m/usr/local/lib/python3.10/dist-packages/keras/engine/training.py\u001b[0m in \u001b[0;36mfit\u001b[0;34m(self, x, y, batch_size, epochs, verbose, callbacks, validation_split, validation_data, shuffle, class_weight, sample_weight, initial_epoch, steps_per_epoch, validation_steps, validation_batch_size, validation_freq, max_queue_size, workers, use_multiprocessing)\u001b[0m\n\u001b[1;32m   1727\u001b[0m                             \u001b[0msteps_per_execution\u001b[0m\u001b[0;34m=\u001b[0m\u001b[0mself\u001b[0m\u001b[0;34m.\u001b[0m\u001b[0m_steps_per_execution\u001b[0m\u001b[0;34m,\u001b[0m\u001b[0;34m\u001b[0m\u001b[0;34m\u001b[0m\u001b[0m\n\u001b[1;32m   1728\u001b[0m                         )\n\u001b[0;32m-> 1729\u001b[0;31m                     val_logs = self.evaluate(\n\u001b[0m\u001b[1;32m   1730\u001b[0m                         \u001b[0mx\u001b[0m\u001b[0;34m=\u001b[0m\u001b[0mval_x\u001b[0m\u001b[0;34m,\u001b[0m\u001b[0;34m\u001b[0m\u001b[0;34m\u001b[0m\u001b[0m\n\u001b[1;32m   1731\u001b[0m                         \u001b[0my\u001b[0m\u001b[0;34m=\u001b[0m\u001b[0mval_y\u001b[0m\u001b[0;34m,\u001b[0m\u001b[0;34m\u001b[0m\u001b[0;34m\u001b[0m\u001b[0m\n",
            "\u001b[0;32m/usr/local/lib/python3.10/dist-packages/keras/utils/traceback_utils.py\u001b[0m in \u001b[0;36merror_handler\u001b[0;34m(*args, **kwargs)\u001b[0m\n\u001b[1;32m     63\u001b[0m         \u001b[0mfiltered_tb\u001b[0m \u001b[0;34m=\u001b[0m \u001b[0;32mNone\u001b[0m\u001b[0;34m\u001b[0m\u001b[0;34m\u001b[0m\u001b[0m\n\u001b[1;32m     64\u001b[0m         \u001b[0;32mtry\u001b[0m\u001b[0;34m:\u001b[0m\u001b[0;34m\u001b[0m\u001b[0;34m\u001b[0m\u001b[0m\n\u001b[0;32m---> 65\u001b[0;31m             \u001b[0;32mreturn\u001b[0m \u001b[0mfn\u001b[0m\u001b[0;34m(\u001b[0m\u001b[0;34m*\u001b[0m\u001b[0margs\u001b[0m\u001b[0;34m,\u001b[0m \u001b[0;34m**\u001b[0m\u001b[0mkwargs\u001b[0m\u001b[0;34m)\u001b[0m\u001b[0;34m\u001b[0m\u001b[0;34m\u001b[0m\u001b[0m\n\u001b[0m\u001b[1;32m     66\u001b[0m         \u001b[0;32mexcept\u001b[0m \u001b[0mException\u001b[0m \u001b[0;32mas\u001b[0m \u001b[0me\u001b[0m\u001b[0;34m:\u001b[0m\u001b[0;34m\u001b[0m\u001b[0;34m\u001b[0m\u001b[0m\n\u001b[1;32m     67\u001b[0m             \u001b[0mfiltered_tb\u001b[0m \u001b[0;34m=\u001b[0m \u001b[0m_process_traceback_frames\u001b[0m\u001b[0;34m(\u001b[0m\u001b[0me\u001b[0m\u001b[0;34m.\u001b[0m\u001b[0m__traceback__\u001b[0m\u001b[0;34m)\u001b[0m\u001b[0;34m\u001b[0m\u001b[0;34m\u001b[0m\u001b[0m\n",
            "\u001b[0;32m/usr/local/lib/python3.10/dist-packages/keras/engine/training.py\u001b[0m in \u001b[0;36mevaluate\u001b[0;34m(self, x, y, batch_size, verbose, sample_weight, steps, callbacks, max_queue_size, workers, use_multiprocessing, return_dict, **kwargs)\u001b[0m\n\u001b[1;32m   2064\u001b[0m             \u001b[0;32mfor\u001b[0m \u001b[0m_\u001b[0m\u001b[0;34m,\u001b[0m \u001b[0miterator\u001b[0m \u001b[0;32min\u001b[0m \u001b[0mdata_handler\u001b[0m\u001b[0;34m.\u001b[0m\u001b[0menumerate_epochs\u001b[0m\u001b[0;34m(\u001b[0m\u001b[0;34m)\u001b[0m\u001b[0;34m:\u001b[0m  \u001b[0;31m# Single epoch.\u001b[0m\u001b[0;34m\u001b[0m\u001b[0;34m\u001b[0m\u001b[0m\n\u001b[1;32m   2065\u001b[0m                 \u001b[0mself\u001b[0m\u001b[0;34m.\u001b[0m\u001b[0mreset_metrics\u001b[0m\u001b[0;34m(\u001b[0m\u001b[0;34m)\u001b[0m\u001b[0;34m\u001b[0m\u001b[0;34m\u001b[0m\u001b[0m\n\u001b[0;32m-> 2066\u001b[0;31m                 \u001b[0;32mwith\u001b[0m \u001b[0mdata_handler\u001b[0m\u001b[0;34m.\u001b[0m\u001b[0mcatch_stop_iteration\u001b[0m\u001b[0;34m(\u001b[0m\u001b[0;34m)\u001b[0m\u001b[0;34m:\u001b[0m\u001b[0;34m\u001b[0m\u001b[0;34m\u001b[0m\u001b[0m\n\u001b[0m\u001b[1;32m   2067\u001b[0m                     \u001b[0;32mfor\u001b[0m \u001b[0mstep\u001b[0m \u001b[0;32min\u001b[0m \u001b[0mdata_handler\u001b[0m\u001b[0;34m.\u001b[0m\u001b[0msteps\u001b[0m\u001b[0;34m(\u001b[0m\u001b[0;34m)\u001b[0m\u001b[0;34m:\u001b[0m\u001b[0;34m\u001b[0m\u001b[0;34m\u001b[0m\u001b[0m\n\u001b[1;32m   2068\u001b[0m                         with tf.profiler.experimental.Trace(\n",
            "\u001b[0;32m/usr/lib/python3.10/contextlib.py\u001b[0m in \u001b[0;36m__exit__\u001b[0;34m(self, typ, value, traceback)\u001b[0m\n\u001b[1;32m    140\u001b[0m         \u001b[0;32mif\u001b[0m \u001b[0mtyp\u001b[0m \u001b[0;32mis\u001b[0m \u001b[0;32mNone\u001b[0m\u001b[0;34m:\u001b[0m\u001b[0;34m\u001b[0m\u001b[0;34m\u001b[0m\u001b[0m\n\u001b[1;32m    141\u001b[0m             \u001b[0;32mtry\u001b[0m\u001b[0;34m:\u001b[0m\u001b[0;34m\u001b[0m\u001b[0;34m\u001b[0m\u001b[0m\n\u001b[0;32m--> 142\u001b[0;31m                 \u001b[0mnext\u001b[0m\u001b[0;34m(\u001b[0m\u001b[0mself\u001b[0m\u001b[0;34m.\u001b[0m\u001b[0mgen\u001b[0m\u001b[0;34m)\u001b[0m\u001b[0;34m\u001b[0m\u001b[0;34m\u001b[0m\u001b[0m\n\u001b[0m\u001b[1;32m    143\u001b[0m             \u001b[0;32mexcept\u001b[0m \u001b[0mStopIteration\u001b[0m\u001b[0;34m:\u001b[0m\u001b[0;34m\u001b[0m\u001b[0;34m\u001b[0m\u001b[0m\n\u001b[1;32m    144\u001b[0m                 \u001b[0;32mreturn\u001b[0m \u001b[0;32mFalse\u001b[0m\u001b[0;34m\u001b[0m\u001b[0;34m\u001b[0m\u001b[0m\n",
            "\u001b[0;32m/usr/local/lib/python3.10/dist-packages/keras/engine/data_adapter.py\u001b[0m in \u001b[0;36mcatch_stop_iteration\u001b[0;34m(self)\u001b[0m\n\u001b[1;32m   1345\u001b[0m             \u001b[0;32mtry\u001b[0m\u001b[0;34m:\u001b[0m\u001b[0;34m\u001b[0m\u001b[0;34m\u001b[0m\u001b[0m\n\u001b[1;32m   1346\u001b[0m                 \u001b[0;32myield\u001b[0m\u001b[0;34m\u001b[0m\u001b[0;34m\u001b[0m\u001b[0m\n\u001b[0;32m-> 1347\u001b[0;31m                 \u001b[0mself\u001b[0m\u001b[0;34m.\u001b[0m\u001b[0msync\u001b[0m\u001b[0;34m(\u001b[0m\u001b[0;34m)\u001b[0m\u001b[0;34m\u001b[0m\u001b[0;34m\u001b[0m\u001b[0m\n\u001b[0m\u001b[1;32m   1348\u001b[0m             \u001b[0;32mexcept\u001b[0m \u001b[0;34m(\u001b[0m\u001b[0mStopIteration\u001b[0m\u001b[0;34m,\u001b[0m \u001b[0mtf\u001b[0m\u001b[0;34m.\u001b[0m\u001b[0merrors\u001b[0m\u001b[0;34m.\u001b[0m\u001b[0mOutOfRangeError\u001b[0m\u001b[0;34m)\u001b[0m\u001b[0;34m:\u001b[0m\u001b[0;34m\u001b[0m\u001b[0;34m\u001b[0m\u001b[0m\n\u001b[1;32m   1349\u001b[0m                 \u001b[0;32mif\u001b[0m \u001b[0mself\u001b[0m\u001b[0;34m.\u001b[0m\u001b[0m_inferred_steps\u001b[0m \u001b[0;32mis\u001b[0m \u001b[0;32mNone\u001b[0m\u001b[0;34m:\u001b[0m\u001b[0;34m\u001b[0m\u001b[0;34m\u001b[0m\u001b[0m\n",
            "\u001b[0;32m/usr/local/lib/python3.10/dist-packages/keras/engine/data_adapter.py\u001b[0m in \u001b[0;36msync\u001b[0;34m(self)\u001b[0m\n\u001b[1;32m   1335\u001b[0m \u001b[0;34m\u001b[0m\u001b[0m\n\u001b[1;32m   1336\u001b[0m     \u001b[0;32mdef\u001b[0m \u001b[0msync\u001b[0m\u001b[0;34m(\u001b[0m\u001b[0mself\u001b[0m\u001b[0;34m)\u001b[0m\u001b[0;34m:\u001b[0m\u001b[0;34m\u001b[0m\u001b[0;34m\u001b[0m\u001b[0m\n\u001b[0;32m-> 1337\u001b[0;31m         \u001b[0mcontext\u001b[0m\u001b[0;34m.\u001b[0m\u001b[0masync_wait\u001b[0m\u001b[0;34m(\u001b[0m\u001b[0;34m)\u001b[0m\u001b[0;34m\u001b[0m\u001b[0;34m\u001b[0m\u001b[0m\n\u001b[0m\u001b[1;32m   1338\u001b[0m \u001b[0;34m\u001b[0m\u001b[0m\n\u001b[1;32m   1339\u001b[0m     \u001b[0;34m@\u001b[0m\u001b[0mcontextlib\u001b[0m\u001b[0;34m.\u001b[0m\u001b[0mcontextmanager\u001b[0m\u001b[0;34m\u001b[0m\u001b[0;34m\u001b[0m\u001b[0m\n",
            "\u001b[0;32m/usr/local/lib/python3.10/dist-packages/tensorflow/python/eager/context.py\u001b[0m in \u001b[0;36masync_wait\u001b[0;34m()\u001b[0m\n\u001b[1;32m   2688\u001b[0m     \u001b[0;32mreturn\u001b[0m\u001b[0;34m\u001b[0m\u001b[0;34m\u001b[0m\u001b[0m\n\u001b[1;32m   2689\u001b[0m   \u001b[0;32mif\u001b[0m \u001b[0mcontext\u001b[0m\u001b[0;34m(\u001b[0m\u001b[0;34m)\u001b[0m\u001b[0;34m.\u001b[0m\u001b[0m_context_handle\u001b[0m \u001b[0;32mis\u001b[0m \u001b[0;32mnot\u001b[0m \u001b[0;32mNone\u001b[0m\u001b[0;34m:\u001b[0m  \u001b[0;31m# pylint: disable=protected-access\u001b[0m\u001b[0;34m\u001b[0m\u001b[0;34m\u001b[0m\u001b[0m\n\u001b[0;32m-> 2690\u001b[0;31m     \u001b[0mcontext\u001b[0m\u001b[0;34m(\u001b[0m\u001b[0;34m)\u001b[0m\u001b[0;34m.\u001b[0m\u001b[0msync_executors\u001b[0m\u001b[0;34m(\u001b[0m\u001b[0;34m)\u001b[0m\u001b[0;34m\u001b[0m\u001b[0;34m\u001b[0m\u001b[0m\n\u001b[0m\u001b[1;32m   2691\u001b[0m \u001b[0;34m\u001b[0m\u001b[0m\n\u001b[1;32m   2692\u001b[0m \u001b[0;34m\u001b[0m\u001b[0m\n",
            "\u001b[0;32m/usr/local/lib/python3.10/dist-packages/tensorflow/python/eager/context.py\u001b[0m in \u001b[0;36msync_executors\u001b[0;34m(self)\u001b[0m\n\u001b[1;32m    710\u001b[0m     \"\"\"\n\u001b[1;32m    711\u001b[0m     \u001b[0;32mif\u001b[0m \u001b[0mself\u001b[0m\u001b[0;34m.\u001b[0m\u001b[0m_context_handle\u001b[0m\u001b[0;34m:\u001b[0m\u001b[0;34m\u001b[0m\u001b[0;34m\u001b[0m\u001b[0m\n\u001b[0;32m--> 712\u001b[0;31m       \u001b[0mpywrap_tfe\u001b[0m\u001b[0;34m.\u001b[0m\u001b[0mTFE_ContextSyncExecutors\u001b[0m\u001b[0;34m(\u001b[0m\u001b[0mself\u001b[0m\u001b[0;34m.\u001b[0m\u001b[0m_context_handle\u001b[0m\u001b[0;34m)\u001b[0m\u001b[0;34m\u001b[0m\u001b[0;34m\u001b[0m\u001b[0m\n\u001b[0m\u001b[1;32m    713\u001b[0m     \u001b[0;32melse\u001b[0m\u001b[0;34m:\u001b[0m\u001b[0;34m\u001b[0m\u001b[0;34m\u001b[0m\u001b[0m\n\u001b[1;32m    714\u001b[0m       \u001b[0;32mraise\u001b[0m \u001b[0mValueError\u001b[0m\u001b[0;34m(\u001b[0m\u001b[0;34m\"Context is not initialized.\"\u001b[0m\u001b[0;34m)\u001b[0m\u001b[0;34m\u001b[0m\u001b[0;34m\u001b[0m\u001b[0m\n",
            "\u001b[0;31mKeyboardInterrupt\u001b[0m: "
          ]
        }
      ]
    },
    {
      "cell_type": "code",
      "source": [
        "eval_model(model1, X_test, y_test, batch=64, verbose=0)"
      ],
      "metadata": {
        "colab": {
          "base_uri": "https://localhost:8080/"
        },
        "id": "sJ0mYZKbyOEm",
        "outputId": "7de4f201-d133-4d72-b0ed-8c2a6d9898e9"
      },
      "execution_count": 104,
      "outputs": [
        {
          "output_type": "stream",
          "name": "stdout",
          "text": [
            "157/157 [==============================] - 0s 3ms/step - loss: 90.8150 - accuracy: 0.8707\n"
          ]
        },
        {
          "output_type": "execute_result",
          "data": {
            "text/plain": [
              "[90.81500244140625, 0.8707000017166138]"
            ]
          },
          "metadata": {},
          "execution_count": 104
        }
      ]
    },
    {
      "cell_type": "code",
      "source": [
        "optimizers = [\n",
        "     # Keyword arguments (kwargs) come in dictionaries ('{}')\n",
        "      (keras.optimizers.Adam, {'learning_rate': 0.001}),\n",
        "      # (keras.optimizers.Adam, {learning_rate=0.002}), (keras.optimizers.Adam, {learning_rate=0.003}),\n",
        "      # (keras.optimizers.Adam, {learning_rate=0.004}), (keras.optimizers.Adam, {learning_rate=0.005}),\n",
        "\n",
        "\n",
        "\n",
        "\n",
        "      # (keras.optimizers.Adadelta, {}),\n",
        "      (keras.optimizers.Adagrad, {}),\n",
        "      (keras.optimizers.Adamax, {'learning_rate': 0.001}), (keras.optimizers.Adamax,  {'learning_rate': 0.002}), (keras.optimizers.Adamax,  {'learning_rate': 0.003}),\n",
        "      # (keras.optimizers.Ftrl,{}),\n",
        "      (keras.optimizers.Nadam,{}),\n",
        "      (keras.optimizers.RMSprop, {}),\n",
        "      # (keras.optimizers.SGD, {})\n",
        "\n",
        "      ]\n",
        "\n",
        "accuracies = np.empty((0, 4))\n",
        "for optimizer, kwarg in optimizers:\n",
        "  # print(optimizer.__name__, kwarg)\n",
        "  model1 = make_model(mlp_arch, optimizer=optimizer(**kwarg),\n",
        "           steps_per_execution=100, summary_model=False)\n",
        "\n",
        "  fit_model(model1, X_train_full, y_train_full, 255.0,\n",
        "                          verbose=0)\n",
        "\n",
        "  accuracies = np.append(accuracies, np.array([f\"Name: {optimizer.__name__}\",\n",
        "                                               f\"Kwargs: {kwarg}\", \"Accuracy:\", eval_model(model1, X_test, y_test, batch=64, verbose=0)[1]]).reshape(1, -1), axis=0)\n",
        "\n",
        "\n",
        "\n",
        "\n"
      ],
      "metadata": {
        "id": "nYunAlCh00_Z"
      },
      "execution_count": 62,
      "outputs": []
    },
    {
      "cell_type": "code",
      "source": [
        "print(accuracies[:,-1])\n",
        "best = np.argmax(np.array([float(i) for i in accuracies[:,-1]]))\n",
        "print(\"Best model:\", accuracies[:,0][best], accuracies[:,1][best], accuracies[:,2][best], accuracies[:,-1][best])\n",
        "\n",
        "\n",
        "# if we have different models:\n",
        "#display(keras.utils.plot_model(model, show_layer_activations=True))"
      ],
      "metadata": {
        "colab": {
          "base_uri": "https://localhost:8080/"
        },
        "id": "w8tf8F3F9u3S",
        "outputId": "2bd3fc6c-3538-4cd9-e78d-5bb66ec45cf9"
      },
      "execution_count": 63,
      "outputs": [
        {
          "output_type": "stream",
          "name": "stdout",
          "text": [
            "['0.8705999851226807' '0.824400007724762' '0.883899986743927'\n",
            " '0.8658000230789185' '0.8716999888420105' '0.8619999885559082'\n",
            " '0.8712999820709229']\n",
            "Best model: Name: Adamax Kwargs: {'learning_rate': 0.001} Accuracy: 0.883899986743927\n"
          ]
        }
      ]
    },
    {
      "cell_type": "code",
      "source": [
        "def test_networks(models, optimizers, batch_sizes, epochs):\n",
        "\n",
        "  results = np.empty((0,5))\n",
        "\n",
        "  for model in models:\n",
        "    for optimizer, kwarg in optimizers:\n",
        "      model1 = make_model(model, optimizer=optimizer(**kwarg),\n",
        "           steps_per_execution=100, summary_model=False)\n",
        "\n",
        "      for batch in batch_sizes:\n",
        "        for epoch in epochs:\n",
        "          fit_model(model1, X_train_full, y_train_full, 255.0,\n",
        "                            verbose=0, batch=batch, validation_split=0.1)\n",
        "\n",
        "          accuracy = eval_model(model1, X_test, y_test, batch=batch, verbose=0)[1]\n",
        "\n",
        "          results = np.append(results, np.array([f\"{optimizer.__name__ = }\", f\"{kwarg = }\",\n",
        "                                                      f\"{batch = }\",f\"{epoch = }\", f\"{accuracy = }\"]).reshape(1, -1), axis=0)\n",
        "\n",
        "\n",
        "    return results\n",
        "\n",
        "\n",
        "\n",
        "results1 = test_networks(\n",
        "      [mlp_arch],\n",
        "       [\n",
        "     # Keyword arguments (kwargs) come in dictionaries ('{}')\n",
        "      (keras.optimizers.Adam, {'learning_rate': 0.001}),\n",
        "      # (keras.optimizers.Adam, {learning_rate=0.002}), (keras.optimizers.Adam, {learning_rate=0.003}),\n",
        "      # (keras.optimizers.Adam, {learning_rate=0.004}), (keras.optimizers.Adam, {learning_rate=0.005}),\n",
        "\n",
        "\n",
        "\n",
        "\n",
        "      # (keras.optimizers.Adadelta, {}),\n",
        "      # (keras.optimizers.Adagrad, {}),\n",
        "      (keras.optimizers.Adamax, {'learning_rate': 0.001}), (keras.optimizers.Adamax,  {'learning_rate': 0.002}), (keras.optimizers.Adamax,  {'learning_rate': 0.003}),\n",
        "      # (keras.optimizers.Ftrl,{}),\n",
        "      # (keras.optimizers.Nadam,{}),\n",
        "      # (keras.optimizers.RMSprop, {}),\n",
        "      # (keras.optimizers.SGD, {})\n",
        "\n",
        "      ],\n",
        "\n",
        "      batch_sizes=[32, 64, 128, 256], epochs = [5, 10, 20, 30]\n",
        "\n",
        ")"
      ],
      "metadata": {
        "id": "hVGLYQVB5umJ"
      },
      "execution_count": 99,
      "outputs": []
    },
    {
      "cell_type": "code",
      "source": [
        "# Find the best model:\n",
        "\n",
        "accuracies = [float(i.split('=')[1].strip()) for i in results1[:,-1]]\n",
        "best = np.argmax(np.array([accuracies]))\n",
        "\n",
        "print(\"Best model:\", \"\\n\")\n",
        "for i in np.arange(results1.shape[-1]):\n",
        "  print(results1[:,i][best])\n"
      ],
      "metadata": {
        "colab": {
          "base_uri": "https://localhost:8080/"
        },
        "id": "8kaz7cMNKx5L",
        "outputId": "ba842fa9-73a4-4f4f-e953-3c539d114cd1"
      },
      "execution_count": 100,
      "outputs": [
        {
          "output_type": "stream",
          "name": "stdout",
          "text": [
            "Best model: \n",
            "\n",
            "optimizer.__name__ = 'Adam'\n",
            "kwarg = {'learning_rate': 0.001}\n",
            "batch = 128\n",
            "epoch = 10\n",
            "accuracy = 0.881600022315979\n"
          ]
        }
      ]
    },
    {
      "cell_type": "code",
      "source": [
        "top5 = [np.argsort(accuracies)[-5:][::-1]][0] # [::-1] is for reverse order, such that the highest accuracy is value 1 in the top5\n",
        "top5\n",
        "for val in top5:\n",
        "  print(accuracies[val])\n",
        "# accuracies[top5]"
      ],
      "metadata": {
        "colab": {
          "base_uri": "https://localhost:8080/"
        },
        "id": "HVS9vZ-sSyWQ",
        "outputId": "8daf570a-343d-4b3c-eed2-e7da0613bb1c"
      },
      "execution_count": 117,
      "outputs": [
        {
          "output_type": "stream",
          "name": "stdout",
          "text": [
            "0.881600022315979\n",
            "0.8805000185966492\n",
            "0.8795999884605408\n",
            "0.8791000247001648\n",
            "0.8781999945640564\n"
          ]
        }
      ]
    },
    {
      "cell_type": "code",
      "source": [],
      "metadata": {
        "id": "GtV5nJ84TuP8"
      },
      "execution_count": null,
      "outputs": []
    },
    {
      "cell_type": "code",
      "source": [],
      "metadata": {
        "id": "-KTgLG1xTuMW"
      },
      "execution_count": null,
      "outputs": []
    },
    {
      "cell_type": "code",
      "source": [],
      "metadata": {
        "id": "Wf2oPDfhTuJw"
      },
      "execution_count": null,
      "outputs": []
    },
    {
      "cell_type": "code",
      "source": [],
      "metadata": {
        "id": "02jEUzDfTuGZ"
      },
      "execution_count": null,
      "outputs": []
    }
  ],
  "metadata": {
    "accelerator": "TPU",
    "colab": {
      "provenance": [],
      "collapsed_sections": [
        "rQsW4PP2H5Gd",
        "6ceudEFhIikX",
        "b2ic28zQHv6H",
        "gPhu9yCDMSTS",
        "NTVhtIXUUruW",
        "_nPv0xLnhVLB"
      ],
      "authorship_tag": "ABX9TyNo99S6KtabFAHN8GYb7jDn"
    },
    "kernelspec": {
      "display_name": "Python 3",
      "name": "python3"
    },
    "language_info": {
      "name": "python"
    }
  },
  "nbformat": 4,
  "nbformat_minor": 0
}