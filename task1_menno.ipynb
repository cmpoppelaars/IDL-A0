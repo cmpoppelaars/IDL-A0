{
 "cells": [
  {
   "cell_type": "code",
   "execution_count": 1,
   "metadata": {},
   "outputs": [],
   "source": [
    "import pandas as pd\n",
    "import matplotlib.pyplot as plt\n",
    "import numpy as np\n",
    "import os\n",
    "\n",
    "from sklearn.manifold import TSNE\n",
    "from sklearn.decomposition import PCA\n",
    "from sklearn.preprocessing import scale as sk_scale\n",
    "from sklearn.preprocessing import StandardScaler"
   ]
  },
  {
   "cell_type": "code",
   "execution_count": 2,
   "metadata": {},
   "outputs": [],
   "source": [
    "PATH = os.getcwd()\n",
    "DATAPATH = os.path.join(PATH, \"data\")\n",
    "filenames = {\n",
    "    \"X_test\": \"test_in - Copy.csv\",\n",
    "    \"X_train\": \"train_in - Copy.csv\",\n",
    "    \"y_test\": \"test_out - Copy.csv\",\n",
    "    \"y_train\": \"train_out - Copy.csv\",\n",
    "}\n",
    "\n",
    "\n",
    "# Import all data files\n",
    "X_train = pd.read_csv(os.path.join(DATAPATH, filenames[\"X_train\"]), header=None)\n",
    "y_train = pd.read_csv(\n",
    "    os.path.join(DATAPATH, filenames[\"y_train\"]), header=None, names=[\"digit\"]\n",
    ")\n",
    "X_test = pd.read_csv(os.path.join(DATAPATH, filenames[\"X_test\"]), header=None)\n",
    "y_test = pd.read_csv(\n",
    "    os.path.join(DATAPATH, filenames[\"y_test\"]), header=None, names=[\"digit\"]\n",
    ")"
   ]
  },
  {
   "cell_type": "code",
   "execution_count": 14,
   "metadata": {},
   "outputs": [],
   "source": [
    "def center_img(X, y, digit: int):\n",
    "    \"\"\"Calculate the center of the cloud in 256 dim space for `digit` using data `X` and labels `y`\"\"\"\n",
    "    return X[y.digit == digit].mean()\n",
    "\n",
    "def show_img(X, shape=(16,16)):\n",
    "    \"\"\"Show image of digit in `X`. Specifying the `shape` is optional\"\"\"\n",
    "    plt.figure()\n",
    "    plt.imshow(X.to_numpy().reshape(shape), cmap=\"Greys\")\n",
    "    plt.show()\n",
    "\n",
    "\n",
    "def dist(src, dst):\n",
    "    \"\"\"Calculate the distance between `src` and `dst` using norm 2 distance\"\"\"\n",
    "    return ((src - dst) ** 2).sum()\n",
    "\n",
    "\n",
    "def classify(X_test, X_train=X_train, y_train=y_train):\n",
    "    \"\"\"Classify all test cases in `X_test` using the training data `X_train` and labels `y_train`\"\"\"\n",
    "    centers = [center_img(X_train, y_train, digit) for digit in range(10)]\n",
    "    output = []\n",
    "    for _, img in X_test.iterrows():\n",
    "        distances = [dist(img, center) for center in centers]\n",
    "        output.append(np.argmin(distances))\n",
    "    return pd.DataFrame(output)\n",
    "\n",
    "\n",
    "def accuraccy(y_test, y_out):\n",
    "    return len(y_test[y_test.digit == y_out]) / len(y_test)\n",
    "\n",
    "\n",
    "def calculate_distances(X_test, X_train=X_train, y_train=y_train) -> pd.DataFrame:\n",
    "    \"\"\"Classify all test cases in `X_test` using the training data `X_train` and labels `y_train`\"\"\"\n",
    "    centers = [center_img(X_train, y_train, digit) for digit in range(10)]\n",
    "    output = []\n",
    "    for _, img in X_test.iterrows():\n",
    "        output.append([dist(img, center) for center in centers])\n",
    "    return pd.DataFrame(output)\n",
    "\n",
    "def classify_dist_ij(dist_ij: pd.DataFrame, y: pd.DataFrame):\n",
    "    \"\"\"Classify all test cases using the distance matrix generated in `calculate_distances`\"\"\"\n",
    "    return dist_ij.apply(np.argmin, axis=1).copy()"
   ]
  },
  {
   "cell_type": "code",
   "execution_count": 4,
   "metadata": {},
   "outputs": [
    {
     "data": {
      "image/png": "[encoded data removed]",
      "text/plain": [
       "<Figure size 640x480 with 1 Axes>"
      ]
     },
     "metadata": {},
     "output_type": "display_data"
    },
    {
     "data": {
      "image/png": "[encoded data removed]",
      "text/plain": [
       "<Figure size 640x480 with 1 Axes>"
      ]
     },
     "metadata": {},
     "output_type": "display_data"
    }
   ],
   "source": [
    "# Show first image in the training and test set to show data\n",
    "show_img(X_train.iloc[0])\n",
    "show_img(X_test.iloc[0])"
   ]
  },
  {
   "cell_type": "markdown",
   "metadata": {},
   "source": [
    "# Task 1i: Calculate the centers"
   ]
  },
  {
   "cell_type": "code",
   "execution_count": 5,
   "metadata": {},
   "outputs": [
    {
     "data": {
      "image/png": "[encoded data removed]",
      "text/plain": [
       "<Figure size 640x480 with 1 Axes>"
      ]
     },
     "metadata": {},
     "output_type": "display_data"
    }
   ],
   "source": [
    "# Calculate center image of digits\n",
    "center_7 = center_img(X_train, y_train, 7)\n",
    "show_img(center_7)"
   ]
  },
  {
   "cell_type": "markdown",
   "metadata": {},
   "source": [
    "# Task 1ii: Calculate the distances between the centers of the 10 clouds"
   ]
  },
  {
   "cell_type": "code",
   "execution_count": 15,
   "metadata": {},
   "outputs": [],
   "source": [
    "dist_ij = calculate_distances(X_test)\n",
    "y_out = classify_dist_ij(dist_ij, y_test)"
   ]
  },
  {
   "cell_type": "code",
   "execution_count": 16,
   "metadata": {},
   "outputs": [
    {
     "data": {
      "text/plain": [
       "0      False\n",
       "1      False\n",
       "2      False\n",
       "3      False\n",
       "4      False\n",
       "       ...  \n",
       "995    False\n",
       "996    False\n",
       "997    False\n",
       "998    False\n",
       "999    False\n",
       "Length: 1000, dtype: bool"
      ]
     },
     "execution_count": 16,
     "metadata": {},
     "output_type": "execute_result"
    }
   ],
   "source": [
    "y_out2 = classify(X_test)\n"
   ]
  },
  {
   "cell_type": "code",
   "execution_count": 20,
   "metadata": {},
   "outputs": [
    {
     "data": {
      "text/plain": [
       "array([0, 0, 0, 0, 0, 0, 0, 0, 0, 0, 0, 0, 0, 0, 2, 8, 5, 5, 4, 0, 9, 2,\n",
       "       4, 6, 0, 9, 8, 0, 0, 6, 4, 0, 6, 6, 8, 0, 2, 2, 0, 0, 0, 0, 8, 8,\n",
       "       6, 6, 0, 9, 0, 9, 0, 2, 0, 2, 2, 1, 2, 1, 6, 1, 2, 1, 5, 1, 6, 1,\n",
       "       8, 3, 6, 0, 4, 8, 4, 0, 0, 1, 8, 4, 3, 0, 4, 6, 0, 1, 2, 6, 6, 6,\n",
       "       3, 4, 0, 0, 6, 8, 2, 0, 1, 9, 9, 9, 9, 6, 6, 7, 7, 7, 7, 9, 9, 7,\n",
       "       6, 8, 2, 7, 6, 8, 1, 0, 1, 1, 1, 6, 7, 6, 8, 0, 1, 9, 8, 1, 8, 6,\n",
       "       8, 0, 8, 4, 0, 0, 0, 4, 4, 1, 3, 1, 6, 4, 1, 4, 1, 9, 6, 5, 2, 4,\n",
       "       1, 0, 0, 0, 1, 1, 0, 0, 1, 8, 1, 0, 0, 0, 7, 1, 0, 0, 1, 7, 1, 6,\n",
       "       0, 2, 0, 1, 8, 9, 4, 1, 0, 1, 0, 8, 1, 0, 1, 0, 1, 1, 0, 0, 0, 1,\n",
       "       1, 0, 1, 6, 3, 1, 0, 0, 2, 2, 1, 0, 0, 2, 1, 1, 0, 6, 5, 4, 1, 8,\n",
       "       0, 1, 0, 1, 0, 0, 0, 3, 1, 0, 0, 3, 0, 8, 9, 1, 6, 9, 8, 9, 1, 6,\n",
       "       8, 8, 0, 3, 6, 8, 5, 7, 1, 1, 7, 0, 2, 8, 8, 7, 0, 4, 9, 5, 0, 2,\n",
       "       8, 8, 9, 1, 6, 9, 2, 0, 7, 7, 0, 0, 8, 9, 9, 0, 7, 5, 9, 7, 9, 0,\n",
       "       1, 9, 6, 5, 4, 4, 0, 0, 4, 9, 4, 8, 8, 8, 3, 4, 0, 1, 6, 0, 1, 2,\n",
       "       7, 3, 4, 4, 6, 1, 1, 7, 5, 1, 3, 3, 3, 3, 0, 9, 1, 6, 3, 7, 8, 0,\n",
       "       0, 7, 8, 4, 1, 1, 4, 9, 0, 8, 7, 9, 4, 6, 1, 8, 9, 4, 2, 4, 0, 0,\n",
       "       0, 0, 3, 7, 6, 2, 3, 1, 7, 0, 0, 0, 6, 4, 5, 6, 6, 8, 4, 8, 1, 9,\n",
       "       0, 4, 3, 6, 1, 2, 4, 3, 8, 1, 4, 1, 4, 2, 6, 0, 7, 6, 8, 1, 3, 9,\n",
       "       0, 0, 2, 5, 3, 5, 0, 4, 4, 1, 4, 2, 1, 9, 3, 5, 0, 5, 6, 0, 9, 8,\n",
       "       8, 1, 9, 7, 1, 4, 2, 3, 2, 3, 1, 8, 3, 3, 6, 0, 2, 3, 2, 6, 0, 2,\n",
       "       5, 6, 6, 1, 2, 0, 4, 3, 9, 6, 5, 0, 1, 4, 4, 4, 3, 4, 2, 0, 0, 0,\n",
       "       5, 8, 1, 0, 2, 2, 0, 6, 8, 5, 2, 0, 0, 1, 3, 2, 6, 4, 6, 0, 0, 0,\n",
       "       0, 1, 6, 7, 9, 9, 6, 6, 2, 2, 0, 0, 1, 4, 4, 1, 5, 1, 4, 6, 2, 6,\n",
       "       9, 4, 6, 9, 7, 0, 4, 6, 2, 8, 3, 8, 3, 0, 3, 4, 6, 9, 1, 0, 8, 1,\n",
       "       4, 6, 3, 8, 2, 4, 6, 8, 9, 1, 0, 0, 1, 0, 1, 4, 6, 1, 4, 4, 6, 0,\n",
       "       5, 2, 4, 6, 2, 7, 8, 4, 6, 1, 4, 0, 4, 7, 3, 1, 1, 1, 1, 2, 9, 2,\n",
       "       6, 9, 2, 3, 4, 6, 0, 6, 8, 4, 7, 4, 0, 1, 9, 6, 3, 8, 3, 5, 9, 9,\n",
       "       1, 9, 3, 3, 5, 4, 2, 3, 3, 9, 3, 2, 5, 3, 5, 4, 4, 9, 4, 9, 9, 4,\n",
       "       2, 0, 4, 0, 6, 4, 6, 3, 8, 0, 4, 3, 2, 3, 2, 2, 7, 6, 0, 4, 0, 8,\n",
       "       9, 0, 2, 9, 6, 6, 0, 4, 4, 6, 2, 9, 1, 9, 6, 2, 5, 0, 9, 2, 1, 0,\n",
       "       5, 9, 2, 0, 2, 1, 4, 8, 0, 9, 8, 3, 3, 6, 6, 9, 7, 9, 4, 9, 5, 3,\n",
       "       8, 1, 3, 8, 9, 8, 2, 1, 0, 2, 8, 2, 0, 0, 1, 6, 3, 0, 1, 1, 7, 1,\n",
       "       8, 4, 5, 2, 7, 5, 6, 0, 4, 7, 7, 0, 9, 8, 3, 6, 4, 9, 6, 8, 2, 1,\n",
       "       9, 6, 8, 3, 4, 9, 6, 9, 8, 2, 9, 6, 8, 9, 6, 8, 1, 3, 9, 6, 8, 1,\n",
       "       9, 0, 0, 6, 4, 7, 7, 0, 9, 8, 3, 6, 3, 5, 8, 2, 0, 5, 8, 3, 8, 1,\n",
       "       1, 6, 8, 8, 4, 8, 6, 8, 1, 7, 8, 6, 8, 0, 0, 9, 6, 8, 1, 4, 2, 2,\n",
       "       3, 0, 4, 9, 9, 3, 3, 6, 1, 8, 6, 4, 6, 3, 2, 8, 0, 0, 5, 5, 1, 0,\n",
       "       1, 8, 9, 1, 6, 1, 8, 3, 7, 5, 3, 9, 9, 9, 1, 0, 3, 7, 5, 5, 0, 3,\n",
       "       4, 5, 5, 0, 5, 4, 0, 1, 0, 9, 4, 5, 3, 0, 0, 4, 4, 2, 5, 4, 4, 5,\n",
       "       3, 6, 5, 4, 0, 2, 0, 5, 0, 9, 1, 3, 7, 3, 9, 7, 3, 7, 3, 1, 1, 3,\n",
       "       7, 8, 1, 6, 0, 0, 4, 0, 3, 7, 1, 5, 8, 5, 7, 8, 0, 2, 2, 4, 0, 0,\n",
       "       0, 0, 2, 7, 5, 7, 3, 7, 3, 0, 2, 9, 8, 2, 0, 4, 4, 0, 1, 4, 8, 9,\n",
       "       0, 0, 8, 3, 0, 8, 0, 8, 7, 5, 4, 3, 4, 7, 0, 3, 8, 9, 7, 3, 8, 2,\n",
       "       9, 7, 1, 1, 1, 9, 4, 1, 0, 7, 6, 1, 1, 6, 0, 6, 8, 0, 0, 9, 0, 8,\n",
       "       0, 0, 9, 6, 8, 1, 2, 7, 2, 1, 1, 3, 0, 5, 7, 1, 6, 5, 5, 7, 1, 0,\n",
       "       2, 4, 4, 7, 0, 9, 5, 8, 9, 0], dtype=int64)"
      ]
     },
     "execution_count": 20,
     "metadata": {},
     "output_type": "execute_result"
    }
   ],
   "source": [
    "y_out2"
   ]
  },
  {
   "cell_type": "code",
   "execution_count": 7,
   "metadata": {},
   "outputs": [],
   "source": [
    "pca = PCA(n_components=2, random_state=42)\n",
    "scaler = StandardScaler()\n",
    "X_train_norm = scaler.fit_transform(X_train)\n",
    "pca_train = pd.DataFrame(pca.fit_transform(X_train_norm))\n",
    "X_test_norm = scaler.fit_transform(X_test)\n",
    "pca_test = pd.DataFrame(pca.fit_transform(X_test_norm))\n",
    "\n",
    "y_out = classify(pca_test, X_train=pca_train)"
   ]
  },
  {
   "cell_type": "code",
   "execution_count": 8,
   "metadata": {},
   "outputs": [
    {
     "data": {
      "text/plain": [
       "0.297"
      ]
     },
     "execution_count": 8,
     "metadata": {},
     "output_type": "execute_result"
    }
   ],
   "source": [
    "accuraccy(y_test, y_out)"
   ]
  }
 ],
 "metadata": {
  "kernelspec": {
   "display_name": ".venv",
   "language": "python",
   "name": "python3"
  },
  "language_info": {
   "codemirror_mode": {
    "name": "ipython",
    "version": 3
   },
   "file_extension": ".py",
   "mimetype": "text/x-python",
   "name": "python",
   "nbconvert_exporter": "python",
   "pygments_lexer": "ipython3",
   "version": "3.11.0"
  },
  "orig_nbformat": 4
 },
 "nbformat": 4,
 "nbformat_minor": 2
}
