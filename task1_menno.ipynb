{
 "cells": [
  {
   "cell_type": "code",
   "execution_count": 64,
   "metadata": {},
   "outputs": [],
   "source": [
    "import pandas as pd\n",
    "import matplotlib.pyplot as plt\n",
    "import numpy as np\n",
    "import os"
   ]
  },
  {
   "cell_type": "code",
   "execution_count": 66,
   "metadata": {},
   "outputs": [
    {
     "data": {
      "image/png": "[encoded data removed]",
      "text/plain": [
       "<Figure size 640x480 with 1 Axes>"
      ]
     },
     "metadata": {},
     "output_type": "display_data"
    }
   ],
   "source": [
    "PATH = os.getcwd()\n",
    "DATAPATH = os.path.join(PATH, \"data\")\n",
    "filenames = {\n",
    "    \"X_test\": \"test_in - Copy.csv\",\n",
    "    \"X_train\": \"train_in - Copy.csv\",\n",
    "    \"y_test\": \"test_out - Copy.csv\",\n",
    "    \"y_train\": \"train_out - Copy.csv\",\n",
    "}\n",
    "\n",
    "X_test, y_test = pd.read_csv(os.path.join(DATAPATH, filenames[\"X_test\"]), header=None), pd.read_csv(os.path.join(DATAPATH, filenames[\"y_test\"]), header=None, names=[\"digit\"])\n",
    "X_train, y_train = pd.read_csv(os.path.join(DATAPATH, filenames[\"X_train\"]), header=None), pd.read_csv(os.path.join(DATAPATH, filenames[\"y_train\"]), header=None, names=[\"digit\"])\n",
    "\n",
    "\n",
    "plt.figure()\n",
    "plt.imshow((X_test.iloc[0]).to_numpy().reshape((16,16)), cmap='Greys')\n",
    "plt.show()"
   ]
  },
  {
   "cell_type": "markdown",
   "metadata": {},
   "source": [
    "# Task 1"
   ]
  },
  {
   "cell_type": "code",
   "execution_count": 91,
   "metadata": {},
   "outputs": [],
   "source": [
    "# 1i: find all training images that are for digit 'd' and calculate the centers\n",
    "\n",
    "def center_img(X, y, digit: int):\n",
    "    \"\"\"Calculate the center of the cloud in 256 dim space for `digit`\"\"\"\n",
    "    return X[y.digit == digit].mean()\n",
    "\n",
    "def d(src, dst):\n",
    "    \"\"\"Calculate the distance between `src` and `dst` using norm 2 distance\"\"\"\n",
    "    return ((src - dst)**2).sum()\n",
    "\n",
    "def classify(X_test, X_train=X_train, y_train=y_train):\n",
    "    \"\"\"Classify all test cases in `X_test` using the training data `X_train` and labels `y_train`\"\"\"\n",
    "    centers = [center_img(X_train, y_train, digit) for digit in range(10)]\n",
    "    output = []\n",
    "    for _, img in X_test.iterrows():\n",
    "        \n",
    "        distances = [d(img, center) for center in centers]\n",
    "        output.append(np.argmin(distances))\n",
    "    return np.array(output)\n",
    "\n",
    "y_out = classify(X_test)"
   ]
  },
  {
   "cell_type": "code",
   "execution_count": 103,
   "metadata": {},
   "outputs": [
    {
     "data": {
      "text/plain": [
       "0.804"
      ]
     },
     "execution_count": 103,
     "metadata": {},
     "output_type": "execute_result"
    }
   ],
   "source": [
    "len(y_test[y_test.digit == y_out])/len(y_test)"
   ]
  }
 ],
 "metadata": {
  "kernelspec": {
   "display_name": ".venv",
   "language": "python",
   "name": "python3"
  },
  "language_info": {
   "codemirror_mode": {
    "name": "ipython",
    "version": 3
   },
   "file_extension": ".py",
   "mimetype": "text/x-python",
   "name": "python",
   "nbconvert_exporter": "python",
   "pygments_lexer": "ipython3",
   "version": "3.11.0"
  },
  "orig_nbformat": 4
 },
 "nbformat": 4,
 "nbformat_minor": 2
}
