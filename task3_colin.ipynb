{
 "cells": [
  {
   "cell_type": "code",
   "execution_count": 1,
   "id": "6e3df52b",
   "metadata": {},
   "outputs": [],
   "source": [
    "import numpy as np"
   ]
  },
  {
   "cell_type": "code",
   "execution_count": 25,
   "id": "c37660de",
   "metadata": {},
   "outputs": [
    {
     "name": "stdout",
     "output_type": "stream",
     "text": [
      "(2, 2) (1, 2) (2, 1) (1, 1)\n"
     ]
    }
   ],
   "source": [
    "# Layer 1\n",
    "\"\"\"\n",
    "Input = (1x2), weights is (2x2), output of first layer is (1x2). We add a bias to this, same shape\n",
    "(1x2). \n",
    "\"\"\"\n",
    "X = np.array([[2,4]]) # input\n",
    "W1 = np.array([[1, 2], [3, 4]]) #2x2\n",
    "b1 = np.array([[1,1]]) # 1x2\n",
    "\n",
    "\n",
    "\n",
    "# Layer 2\n",
    "\"\"\"Input is the output of layer 1, therefore we have an input of (1x2). We have weights (2x1), output is thus \n",
    "(1x1), to which we add a bias, shape (1x1).\n",
    "\"\"\"\n",
    "\n",
    "\n",
    "# Define the activated output of layer 1 as the input of layer 2\n",
    "# a = np.array([[a1, a2]])\n",
    "\n",
    "\n",
    "W2 = np.array([[2], [1]])\n",
    "b2 = np.array([[1]])\n",
    "\n",
    "# Print the shapes\n",
    "print(W1.shape, b1.shape, W2.shape, b2.shape)"
   ]
  },
  {
   "cell_type": "code",
   "execution_count": 37,
   "id": "03ab0538",
   "metadata": {},
   "outputs": [],
   "source": [
    "# Randomize the weights to have random values between -1 and 1, if using tanh()\n",
    "# np.random.rand gives values between 0 and 1, thus by shifting we get -1 to 1.\n",
    "W1 = 2*np.random.rand(2,2)-1\n",
    "\n",
    "# For sigmoid have values between 0 and 1\n",
    "W1 = np.random.rand(2,2)\n",
    "W2 = np.random.rand(2,1)"
   ]
  },
  {
   "cell_type": "code",
   "execution_count": 38,
   "id": "242264d3",
   "metadata": {},
   "outputs": [],
   "source": [
    "# to forward information from layer 1 to layer 2\n",
    "\"\"\"sigmoidf(x dot W1 + b1)\"\"\"\n",
    "def sigmoidf(x):\n",
    "    \"\"\"Sigmoid always returns a value between 0 and 1\"\"\"\n",
    "    return (1 + np.exp(-x)) ** -1\n",
    "\n",
    "# output layer 1:\n",
    "a1 = sigmoidf(np.dot(X, W1)+b1)"
   ]
  },
  {
   "cell_type": "code",
   "execution_count": 39,
   "id": "0f40dff0",
   "metadata": {},
   "outputs": [
    {
     "data": {
      "text/plain": [
       "array([[0.95826956, 0.97264492]])"
      ]
     },
     "execution_count": 39,
     "metadata": {},
     "output_type": "execute_result"
    }
   ],
   "source": [
    "a1"
   ]
  },
  {
   "cell_type": "code",
   "execution_count": 41,
   "id": "0a167849",
   "metadata": {},
   "outputs": [
    {
     "data": {
      "text/plain": [
       "array([[0.79003668]])"
      ]
     },
     "execution_count": 41,
     "metadata": {},
     "output_type": "execute_result"
    }
   ],
   "source": [
    "# second layer\n",
    "y = sigmoidf(np.dot(a1, W2)+b2)\n",
    "y"
   ]
  },
  {
   "cell_type": "code",
   "execution_count": 42,
   "id": "b402754a",
   "metadata": {},
   "outputs": [],
   "source": [
    "# Define network\n",
    "def XOR_net(X, W1, W2, b1, b2):    \n",
    "    a1 = sigmoidf(np.dot(X, W1)+b1)\n",
    "    a2 = sigmoidf(np.dot(a1, W2)+b2)\n",
    "    return a2\n"
   ]
  },
  {
   "cell_type": "code",
   "execution_count": 47,
   "id": "65c85ecf",
   "metadata": {},
   "outputs": [
    {
     "data": {
      "text/plain": [
       "array([[0.73551216]])"
      ]
     },
     "execution_count": 47,
     "metadata": {},
     "output_type": "execute_result"
    }
   ],
   "source": [
    "# Garbage output - no training yet\n",
    "XOR_net(np.array([[0,0]]), np.random.rand(2,2), np.random.rand(2,1), np.array([1,1]), np.array([[1]]))"
   ]
  },
  {
   "cell_type": "code",
   "execution_count": 90,
   "id": "8103decd",
   "metadata": {},
   "outputs": [
    {
     "data": {
      "text/plain": [
       "array([[0.95988957, 0.02165902, 1.        ],\n",
       "       [0.55114024, 0.40350574, 1.        ]])"
      ]
     },
     "execution_count": 90,
     "metadata": {},
     "output_type": "execute_result"
    }
   ],
   "source": [
    "def random_weights(depth):\n",
    "    \"\"\"Create 'weights' per non-input node, first 2 are random, last is bias of value 1\"\"\"\n",
    "    weights = np.random.rand(1,2)\n",
    "    weights = np.append(weights, 1)\n",
    "    for i in range(depth-1):\n",
    "        weights = np.append(weights, np.random.rand(1,2))\n",
    "        weights = np.append(weights, 1)\n",
    "    return weights\n",
    "\n",
    "# test\n",
    "random_weights(3)\n",
    "\n",
    "# to get shape 2x3\n",
    "random_weights(3)[:6].reshape(2,3)"
   ]
  },
  {
   "cell_type": "code",
   "execution_count": 96,
   "id": "536e3c58",
   "metadata": {},
   "outputs": [],
   "source": [
    "# Using what is asked in the exercise\n",
    "def XOR_net_V2(inputs, weights):   \n",
    "    \"\"\"\n",
    "    Inputs: array \n",
    "    weights: (1x9) matrix, the non-input nodes each have 3 weights, 2 incoming, and a bias.\n",
    "    weights is created in such a way that the first 2 are the (random) weights and the last is the bias\n",
    "    of node 1, 2 or final.\n",
    "    \"\"\"\n",
    "    a1 = sigmoidf(np.dot(inputs, weights[:6].reshape(2,3)))\n",
    "    a2 = sigmoidf(np.dot(a1, weights[6:].reshape(3,1)))\n",
    "    return a2.reshape((1))"
   ]
  },
  {
   "cell_type": "code",
   "execution_count": 97,
   "id": "05ead267",
   "metadata": {},
   "outputs": [
    {
     "data": {
      "text/plain": [
       "array([0.75199649])"
      ]
     },
     "execution_count": 97,
     "metadata": {},
     "output_type": "execute_result"
    }
   ],
   "source": [
    "# Example\n",
    "XOR_net_V2(np.array([[1,0]]), random_weights(3))"
   ]
  },
  {
   "cell_type": "code",
   "execution_count": 105,
   "id": "c9bfed39",
   "metadata": {},
   "outputs": [],
   "source": [
    "# Implement the error function - use the mean squared error\n",
    "def mse(weights, inputs, outputs, net=XOR_net_V2):\n",
    "    # Calculate the mean squared error over all input and outputs from our network, we divide by\n",
    "    # the length of the outputs to obtain the mean over all squared errors.\n",
    "    return sum([(net(inpt, weights) - output)** 2 for inpt, output in zip(inputs, outputs)])/len(outputs)\n"
   ]
  },
  {
   "cell_type": "code",
   "execution_count": 107,
   "id": "0b075f01",
   "metadata": {},
   "outputs": [
    {
     "data": {
      "text/plain": [
       "array([0.30433549])"
      ]
     },
     "execution_count": 107,
     "metadata": {},
     "output_type": "execute_result"
    }
   ],
   "source": [
    "inputs = np.array([[0, 0], [0, 1], [1, 0], [1, 1]])\n",
    "outputs = np.array([0, 1, 1, 0])\n",
    "\n",
    "# Example\n",
    "mse(random_weights(3), inputs, outputs, net=XOR_net_V2)"
   ]
  },
  {
   "cell_type": "code",
   "execution_count": 108,
   "id": "1e8c94e6",
   "metadata": {},
   "outputs": [],
   "source": [
    "# Implement the gradient of the mse function, grdmse\n",
    "\n",
    "\n"
   ]
  },
  {
   "cell_type": "code",
   "execution_count": null,
   "id": "d32b1706",
   "metadata": {},
   "outputs": [],
   "source": []
  },
  {
   "cell_type": "code",
   "execution_count": null,
   "id": "5e76bb0c",
   "metadata": {},
   "outputs": [],
   "source": []
  },
  {
   "cell_type": "code",
   "execution_count": null,
   "id": "4fa40464",
   "metadata": {},
   "outputs": [],
   "source": []
  },
  {
   "cell_type": "code",
   "execution_count": null,
   "id": "4ac18d0e",
   "metadata": {},
   "outputs": [],
   "source": []
  },
  {
   "cell_type": "code",
   "execution_count": null,
   "id": "5fb2acd5",
   "metadata": {},
   "outputs": [],
   "source": []
  },
  {
   "cell_type": "code",
   "execution_count": null,
   "id": "1489e25f",
   "metadata": {},
   "outputs": [],
   "source": []
  }
 ],
 "metadata": {
  "kernelspec": {
   "display_name": "Python 3 (ipykernel)",
   "language": "python",
   "name": "python3"
  },
  "language_info": {
   "codemirror_mode": {
    "name": "ipython",
    "version": 3
   },
   "file_extension": ".py",
   "mimetype": "text/x-python",
   "name": "python",
   "nbconvert_exporter": "python",
   "pygments_lexer": "ipython3",
   "version": "3.10.6"
  }
 },
 "nbformat": 4,
 "nbformat_minor": 5
}
