{
 "cells": [
  {
   "cell_type": "code",
   "execution_count": 5,
   "id": "1e609fdf",
   "metadata": {},
   "outputs": [],
   "source": [
    "import numpy as np\n",
    "import os"
   ]
  },
  {
   "cell_type": "code",
   "execution_count": 13,
   "id": "f41de8c4",
   "metadata": {},
   "outputs": [
    {
     "data": {
      "text/plain": [
       "'/home/cmpoppelaars/IDL/IDL-A0/data'"
      ]
     },
     "execution_count": 13,
     "metadata": {},
     "output_type": "execute_result"
    }
   ],
   "source": [
    "os.chdir('/home/cmpoppelaars/IDL/IDL-A0/data')\n",
    "os.getcwd()\n",
    "PATH = os.getcwd()\n",
    "DATAPATH = os.path.join(PATH, \"data\")\n",
    "\n",
    "filenames = {}"
   ]
  },
  {
   "cell_type": "code",
   "execution_count": 16,
   "id": "8bfff8af",
   "metadata": {},
   "outputs": [],
   "source": [
    "train_in = np.genfromtxt('train_in - Copy.csv', delimiter=',') # the input data\n",
    "train_out = np.genfromtxt('train_out - Copy.csv', delimiter=',') # the true labels"
   ]
  },
  {
   "cell_type": "code",
   "execution_count": 28,
   "id": "77e485d4",
   "metadata": {},
   "outputs": [
    {
     "data": {
      "text/plain": [
       "array([6., 5., 4., ..., 7., 9., 8.])"
      ]
     },
     "execution_count": 28,
     "metadata": {},
     "output_type": "execute_result"
    }
   ],
   "source": [
    "train_out"
   ]
  },
  {
   "cell_type": "code",
   "execution_count": 31,
   "id": "04fb4a8b",
   "metadata": {},
   "outputs": [
    {
     "name": "stdout",
     "output_type": "stream",
     "text": [
      "[   8   11   18   49   53   58   63   65   68   72   80   95   97  101\n",
      "  102  104  106  108  111  116  122  130  132  134  139  157  169  176\n",
      "  180  185  189  192  207  218  222  225  229  235  248  254  266  270\n",
      "  271  272  278  279  280  283  288  294  295  304  317  321  328  332\n",
      "  333  334  335  355  363  365  370  372  375  388  390  400  402  405\n",
      "  409  411  414  419  433  435  438  443  449  451  453  458  461  471\n",
      "  479  481  486  489  493  498  500  513  515  520  521  528  538  541\n",
      "  543  548  579  580  590  595  600  637  641  649  651  654  655  657\n",
      "  658  662  663  667  670  672  677  682  684  687  688  690  693  708\n",
      "  711  716  724  731  732  733  736  737  741  742  748  754  758  759\n",
      "  764  767  769  774  778  779  782  784  789  793  794  799  804  807\n",
      "  809  813  816  820  823  824  827  829  830  833  834  835  837  839\n",
      "  840  845  848  849  851  853  856  857  864  865  867  869  870  874\n",
      "  875  878  879  882  883  885  887  888  892  893  897  898  902  915\n",
      "  916  919  921  923  928  930  938  940  944  955  965  967  969  979\n",
      "  992  993  998 1002 1003 1006 1010 1016 1028 1031 1034 1037 1038 1043\n",
      " 1064 1065 1070 1079 1099 1124 1125 1126 1149 1150 1153 1154 1158 1159\n",
      " 1163 1165 1168 1169 1172 1177 1179 1183 1188 1204 1212 1218 1223 1240\n",
      " 1245 1250 1260 1269 1279 1287 1292 1301 1306 1311 1315 1320 1322 1326\n",
      " 1331 1343 1355 1360 1378 1388 1398 1402 1408 1422 1438 1442 1446 1450\n",
      " 1452 1467 1472 1474 1492 1497 1501 1511 1523 1536 1542 1545 1546 1564\n",
      " 1568 1583 1587 1597 1606 1611 1618 1624 1625 1630 1635 1645 1649 1653\n",
      " 1654 1658 1668 1674 1677 1684 1685 1691 1692 1694 1698]\n",
      "[0. 0. 0. 0. 0. 0. 0. 0. 0. 0. 0. 0. 0. 0. 0. 0. 0. 0. 0. 0. 0. 0. 0. 0.\n",
      " 0. 0. 0. 0. 0. 0. 0. 0. 0. 0. 0. 0. 0. 0. 0. 0. 0. 0. 0. 0. 0. 0. 0. 0.\n",
      " 0. 0. 0. 0. 0. 0. 0. 0. 0. 0. 0. 0. 0. 0. 0. 0. 0. 0. 0. 0. 0. 0. 0. 0.\n",
      " 0. 0. 0. 0. 0. 0. 0. 0. 0. 0. 0. 0. 0. 0. 0. 0. 0. 0. 0. 0. 0. 0. 0. 0.\n",
      " 0. 0. 0. 0. 0. 0. 0. 0. 0. 0. 0. 0. 0. 0. 0. 0. 0. 0. 0. 0. 0. 0. 0. 0.\n",
      " 0. 0. 0. 0. 0. 0. 0. 0. 0. 0. 0. 0. 0. 0. 0. 0. 0. 0. 0. 0. 0. 0. 0. 0.\n",
      " 0. 0. 0. 0. 0. 0. 0. 0. 0. 0. 0. 0. 0. 0. 0. 0. 0. 0. 0. 0. 0. 0. 0. 0.\n",
      " 0. 0. 0. 0. 0. 0. 0. 0. 0. 0. 0. 0. 0. 0. 0. 0. 0. 0. 0. 0. 0. 0. 0. 0.\n",
      " 0. 0. 0. 0. 0. 0. 0. 0. 0. 0. 0. 0. 0. 0. 0. 0. 0. 0. 0. 0. 0. 0. 0. 0.\n",
      " 0. 0. 0. 0. 0. 0. 0. 0. 0. 0. 0. 0. 0. 0. 0. 0. 0. 0. 0. 0. 0. 0. 0. 0.\n",
      " 0. 0. 0. 0. 0. 0. 0. 0. 0. 0. 0. 0. 0. 0. 0. 0. 0. 0. 0. 0. 0. 0. 0. 0.\n",
      " 0. 0. 0. 0. 0. 0. 0. 0. 0. 0. 0. 0. 0. 0. 0. 0. 0. 0. 0. 0. 0. 0. 0. 0.\n",
      " 0. 0. 0. 0. 0. 0. 0. 0. 0. 0. 0. 0. 0. 0. 0. 0. 0. 0. 0. 0. 0. 0. 0. 0.\n",
      " 0. 0. 0. 0. 0. 0. 0.]\n"
     ]
    }
   ],
   "source": [
    "# Filter all the zeros with the zeros, etc. \n",
    "\n",
    "# Define the range of numbers from 0 to 9\n",
    "numbers_to_filter = np.arange(10)\n",
    "\n",
    "# Create a boolean mask for each number\n",
    "masks = [(train_out == number) for number in numbers_to_filter]\n",
    "\n",
    "# Use np.where to get indices for each mask\n",
    "indices_of_numbers = [np.where(mask)[0] for mask in masks]\n",
    "\n",
    "print(indices_of_numbers[0])\n",
    "print(train_out[indices_of_numbers[0]])\n"
   ]
  },
  {
   "cell_type": "code",
   "execution_count": null,
   "id": "5433aa5e",
   "metadata": {},
   "outputs": [],
   "source": []
  },
  {
   "cell_type": "code",
   "execution_count": null,
   "id": "3cbacc0d",
   "metadata": {},
   "outputs": [],
   "source": []
  },
  {
   "cell_type": "code",
   "execution_count": null,
   "id": "44f7c4a4",
   "metadata": {},
   "outputs": [],
   "source": []
  },
  {
   "cell_type": "code",
   "execution_count": null,
   "id": "1d4a3531",
   "metadata": {},
   "outputs": [],
   "source": []
  },
  {
   "cell_type": "code",
   "execution_count": null,
   "id": "7a6c261c",
   "metadata": {},
   "outputs": [],
   "source": []
  },
  {
   "cell_type": "code",
   "execution_count": null,
   "id": "37ba5fbc",
   "metadata": {},
   "outputs": [],
   "source": []
  },
  {
   "cell_type": "code",
   "execution_count": null,
   "id": "e9677b1d",
   "metadata": {},
   "outputs": [],
   "source": []
  },
  {
   "cell_type": "code",
   "execution_count": null,
   "id": "6a510e5e",
   "metadata": {},
   "outputs": [],
   "source": []
  }
 ],
 "metadata": {
  "kernelspec": {
   "display_name": "Python 3 (ipykernel)",
   "language": "python",
   "name": "python3"
  },
  "language_info": {
   "codemirror_mode": {
    "name": "ipython",
    "version": 3
   },
   "file_extension": ".py",
   "mimetype": "text/x-python",
   "name": "python",
   "nbconvert_exporter": "python",
   "pygments_lexer": "ipython3",
   "version": "3.10.6"
  }
 },
 "nbformat": 4,
 "nbformat_minor": 5
}
